{
 "cells": [
  {
   "cell_type": "code",
   "execution_count": 3,
   "id": "83be2aa8",
   "metadata": {
    "ExecuteTime": {
     "end_time": "2023-03-09T13:27:34.043667Z",
     "start_time": "2023-03-09T13:27:32.391320Z"
    }
   },
   "outputs": [],
   "source": [
    "import numpy as np\n",
    "import scipy\n",
    "import matplotlib.pyplot as plt\n",
    "import scipy.stats as stats\n",
    "import statsmodels\n",
    "import statsmodels.sandbox.stats.multicomp\n",
    "import pandas as pd\n",
    "from statsmodels.stats.weightstats import ztest\n",
    "\n",
    "import matplotlib.pyplot as plt\n",
    "import seaborn as sns\n"
   ]
  },
  {
   "cell_type": "code",
   "execution_count": null,
   "id": "86625f11",
   "metadata": {},
   "outputs": [],
   "source": [
    "1. Статкритерии (t-test, z-test) - примеры на выборках разного размера/разных средних/разных дисперсий/разных распределений\n",
    "Mann-Whitney (пример на малой выборке, на очень разных формах распределения)\n",
    "2. p-value распределение, проверка мощности и корректности\n",
    "3. Как проверить выборку на нормальность: qq-plot, критерий Шапиро-Уилка\n",
    "4. Критерий Колмогорова-Смирнова на соответствие выборки известному распределению"
   ]
  },
  {
   "cell_type": "markdown",
   "id": "55efa1a2",
   "metadata": {},
   "source": [
    "# Критерии: t-test, z-test, Mann-Whithey"
   ]
  },
  {
   "cell_type": "code",
   "execution_count": null,
   "id": "330e5738",
   "metadata": {},
   "outputs": [],
   "source": [
    "# Нормальное распределение"
   ]
  },
  {
   "cell_type": "code",
   "execution_count": 7,
   "id": "b7ee0078",
   "metadata": {
    "ExecuteTime": {
     "end_time": "2023-02-16T12:56:08.492244Z",
     "start_time": "2023-02-16T12:56:08.482596Z"
    }
   },
   "outputs": [],
   "source": [
    "a_norm = np.random.normal(0, 1, 1000)\n",
    "b_norm = np.random.normal(0, 1, 1000)"
   ]
  },
  {
   "cell_type": "code",
   "execution_count": 8,
   "id": "5121bcc7",
   "metadata": {
    "ExecuteTime": {
     "end_time": "2023-02-16T13:10:58.929733Z",
     "start_time": "2023-02-16T13:10:58.671454Z"
    }
   },
   "outputs": [
    {
     "data": {
      "image/png": "[encoded data removed]",
      "text/plain": [
       "<Figure size 700x700 with 1 Axes>"
      ]
     },
     "metadata": {},
     "output_type": "display_data"
    }
   ],
   "source": [
    "plt.figure(figsize=(7,7))\n",
    "_ = plt.hist(a_norm, bins = 32, color='green',  linewidth=2)\n",
    "_ = plt.hist(b_norm, bins = 32, color='red',  linewidth=2)"
   ]
  },
  {
   "cell_type": "code",
   "execution_count": 9,
   "id": "fe4db7e3",
   "metadata": {
    "ExecuteTime": {
     "end_time": "2023-02-16T12:56:28.956730Z",
     "start_time": "2023-02-16T12:56:28.953317Z"
    }
   },
   "outputs": [
    {
     "name": "stdout",
     "output_type": "stream",
     "text": [
      "0.05637123243513384 -0.012677387810051037\n"
     ]
    }
   ],
   "source": [
    "print(a_norm.mean(), b_norm.mean())"
   ]
  },
  {
   "cell_type": "code",
   "execution_count": 10,
   "id": "d81a9d51",
   "metadata": {
    "ExecuteTime": {
     "end_time": "2023-02-16T13:01:12.241774Z",
     "start_time": "2023-02-16T13:01:12.238329Z"
    }
   },
   "outputs": [
    {
     "name": "stdout",
     "output_type": "stream",
     "text": [
      "1.0052838695054362 1.0183592739481178\n"
     ]
    }
   ],
   "source": [
    "print(a_norm.std(), b_norm.std())"
   ]
  },
  {
   "cell_type": "markdown",
   "id": "6fbd2c34",
   "metadata": {},
   "source": [
    "Сравним результаты, полученные на разных статкритериях"
   ]
  },
  {
   "cell_type": "code",
   "execution_count": 11,
   "id": "e617a5c3",
   "metadata": {},
   "outputs": [],
   "source": [
    "stats.ttest_ind??"
   ]
  },
  {
   "cell_type": "code",
   "execution_count": 14,
   "id": "6219c6d1",
   "metadata": {
    "ExecuteTime": {
     "end_time": "2023-02-16T13:05:55.823200Z",
     "start_time": "2023-02-16T13:05:55.817740Z"
    }
   },
   "outputs": [
    {
     "name": "stdout",
     "output_type": "stream",
     "text": [
      "TtestResult(statistic=1.5251401402235543, pvalue=0.1273824394902152, df=1997.6664283728492) \n",
      "\n",
      "(1.5251401402235543, 0.12722414715692948) \n",
      "\n",
      "MannwhitneyuResult(statistic=516968.0, pvalue=0.18885682259376146)\n"
     ]
    }
   ],
   "source": [
    "print(stats.ttest_ind(a_norm, b_norm, equal_var= False),'\\n')\n",
    "print(ztest(a_norm, b_norm),'\\n')\n",
    "print(stats.mannwhitneyu(a_norm, b_norm))"
   ]
  },
  {
   "cell_type": "markdown",
   "id": "e7c957a4",
   "metadata": {},
   "source": [
    "Видим, что для выборки из нормального распределения t-test и z-test дали практически идентичные результаты"
   ]
  },
  {
   "cell_type": "markdown",
   "id": "d3e94a89",
   "metadata": {},
   "source": [
    "Попробуем поменять параметры распределения: размеры выборок, средние, дисперсии"
   ]
  },
  {
   "cell_type": "code",
   "execution_count": null,
   "id": "fdd42b51",
   "metadata": {
    "ExecuteTime": {
     "end_time": "2023-02-16T13:20:04.771470Z",
     "start_time": "2023-02-16T13:20:04.767934Z"
    }
   },
   "outputs": [],
   "source": [
    "a_norm = np.random.normal(0, 1, 1000)\n",
    "b_norm = np.random.normal(0, 1, 1000)"
   ]
  },
  {
   "cell_type": "code",
   "execution_count": null,
   "id": "adc75c03",
   "metadata": {
    "ExecuteTime": {
     "end_time": "2023-02-16T13:20:44.843815Z",
     "start_time": "2023-02-16T13:20:44.840197Z"
    }
   },
   "outputs": [],
   "source": [
    "print(a_norm.mean(), b_norm.mean())"
   ]
  },
  {
   "cell_type": "code",
   "execution_count": null,
   "id": "8aacfa56",
   "metadata": {
    "ExecuteTime": {
     "end_time": "2023-02-16T13:20:11.997421Z",
     "start_time": "2023-02-16T13:20:11.990941Z"
    }
   },
   "outputs": [],
   "source": [
    "print(stats.ttest_ind(a_norm, b_norm),'\\n')\n",
    "print(ztest(a_norm, b_norm),'\\n')\n",
    "print(stats.mannwhitneyu(a_norm, b_norm))"
   ]
  },
  {
   "cell_type": "code",
   "execution_count": null,
   "id": "cebb3a55",
   "metadata": {},
   "outputs": [],
   "source": []
  },
  {
   "cell_type": "code",
   "execution_count": 15,
   "id": "5573f94f",
   "metadata": {
    "ExecuteTime": {
     "end_time": "2023-02-16T14:01:16.952924Z",
     "start_time": "2023-02-16T14:01:16.948296Z"
    }
   },
   "outputs": [],
   "source": [
    "def get_results_from_various_tests(a, b, alpha=0.05):\n",
    "    \n",
    "    ttest_pv = stats.ttest_ind(a, b)[1]\n",
    "    ztest_pv = ztest(a, b)[1]\n",
    "    mw_pv = stats.mannwhitneyu(a, b)[1]\n",
    "    \n",
    "    return {'ttest': [ttest_pv, ttest_pv < alpha], 'ztest': [ztest_pv, ztest_pv < alpha], 'MW': [mw_pv, mw_pv < alpha]}"
   ]
  },
  {
   "cell_type": "markdown",
   "id": "6314f08c",
   "metadata": {},
   "source": [
    "Увеличим разницу в средних"
   ]
  },
  {
   "cell_type": "code",
   "execution_count": 16,
   "id": "7e2947fa",
   "metadata": {
    "ExecuteTime": {
     "end_time": "2023-02-16T13:21:40.930635Z",
     "start_time": "2023-02-16T13:21:40.927128Z"
    }
   },
   "outputs": [],
   "source": [
    "a_norm = np.random.normal(50, 10, 1000)\n",
    "b_norm = np.random.normal(30, 11, 1000)"
   ]
  },
  {
   "cell_type": "code",
   "execution_count": 17,
   "id": "54faf1ca",
   "metadata": {
    "ExecuteTime": {
     "end_time": "2023-02-16T13:21:47.474278Z",
     "start_time": "2023-02-16T13:21:47.470510Z"
    }
   },
   "outputs": [
    {
     "name": "stdout",
     "output_type": "stream",
     "text": [
      "49.78928323727342 30.51133369233634\n"
     ]
    }
   ],
   "source": [
    "print(a_norm.mean(), b_norm.mean())"
   ]
  },
  {
   "cell_type": "code",
   "execution_count": 20,
   "id": "b222943c",
   "metadata": {
    "ExecuteTime": {
     "end_time": "2023-02-16T13:22:10.878914Z",
     "start_time": "2023-02-16T13:22:10.620686Z"
    }
   },
   "outputs": [
    {
     "data": {
      "image/png": "[encoded data removed]",
      "text/plain": [
       "<Figure size 700x700 with 1 Axes>"
      ]
     },
     "metadata": {},
     "output_type": "display_data"
    }
   ],
   "source": [
    "plt.figure(figsize=(7,7))\n",
    "_ = plt.hist(a_norm, bins = 32, color='green',  linewidth=2)\n",
    "_ = plt.hist(b_norm, bins = 32, color='red',  linewidth=2)"
   ]
  },
  {
   "cell_type": "code",
   "execution_count": 21,
   "id": "45958ebd",
   "metadata": {
    "ExecuteTime": {
     "end_time": "2023-02-16T13:33:28.870375Z",
     "start_time": "2023-02-16T13:33:28.863676Z"
    }
   },
   "outputs": [
    {
     "data": {
      "text/plain": [
       "{'ttest': [1.3291548858246115e-260, True],\n",
       " 'ztest': [0.0, True],\n",
       " 'MW': [6.809853689855873e-208, True]}"
      ]
     },
     "execution_count": 21,
     "metadata": {},
     "output_type": "execute_result"
    }
   ],
   "source": [
    "get_results_from_various_tests(a_norm, b_norm, alpha=0.05)"
   ]
  },
  {
   "cell_type": "markdown",
   "id": "f9f3cbae",
   "metadata": {},
   "source": [
    "Увеличим дисперсию"
   ]
  },
  {
   "cell_type": "code",
   "execution_count": 22,
   "id": "cb7ca5fc",
   "metadata": {
    "ExecuteTime": {
     "end_time": "2023-02-16T13:47:49.302649Z",
     "start_time": "2023-02-16T13:47:49.298741Z"
    }
   },
   "outputs": [],
   "source": [
    "a_norm = np.random.normal(50, 350, 1000)\n",
    "b_norm = np.random.normal(30, 100, 1000)"
   ]
  },
  {
   "cell_type": "code",
   "execution_count": 24,
   "id": "071f6a30",
   "metadata": {
    "ExecuteTime": {
     "end_time": "2023-02-16T13:47:50.386498Z",
     "start_time": "2023-02-16T13:47:49.994479Z"
    }
   },
   "outputs": [
    {
     "data": {
      "image/png": "[encoded data removed]",
      "text/plain": [
       "<Figure size 700x700 with 1 Axes>"
      ]
     },
     "metadata": {},
     "output_type": "display_data"
    }
   ],
   "source": [
    "plt.figure(figsize=(7,7))\n",
    "_ = plt.hist(a_norm, bins = 32, color='green',  linewidth=2)\n",
    "_ = plt.hist(b_norm, bins = 32, color='red',  linewidth=2)"
   ]
  },
  {
   "cell_type": "code",
   "execution_count": 25,
   "id": "ebbc1481",
   "metadata": {
    "ExecuteTime": {
     "end_time": "2023-02-16T13:47:51.212897Z",
     "start_time": "2023-02-16T13:47:51.205791Z"
    }
   },
   "outputs": [
    {
     "data": {
      "text/plain": [
       "{'ttest': [0.03032895411400911, True],\n",
       " 'ztest': [0.030211170611625867, True],\n",
       " 'MW': [0.014698721964569802, True]}"
      ]
     },
     "execution_count": 25,
     "metadata": {},
     "output_type": "execute_result"
    }
   ],
   "source": [
    "get_results_from_various_tests(a_norm, b_norm, alpha=0.05)"
   ]
  },
  {
   "cell_type": "markdown",
   "id": "abfb0f82",
   "metadata": {},
   "source": [
    "Возьмем данные не из нормального распределения"
   ]
  },
  {
   "cell_type": "code",
   "execution_count": 38,
   "id": "df0974fb",
   "metadata": {
    "ExecuteTime": {
     "end_time": "2023-02-16T14:01:31.552323Z",
     "start_time": "2023-02-16T14:01:31.548797Z"
    }
   },
   "outputs": [],
   "source": [
    "a_gamma = np.random.gamma(1, 2, size = 100)\n",
    "b_gamma = np.random.gamma(1, 2, size = 100)"
   ]
  },
  {
   "cell_type": "code",
   "execution_count": 39,
   "id": "616d2575",
   "metadata": {
    "ExecuteTime": {
     "end_time": "2023-02-16T14:01:32.431682Z",
     "start_time": "2023-02-16T14:01:32.428087Z"
    }
   },
   "outputs": [
    {
     "name": "stdout",
     "output_type": "stream",
     "text": [
      "2.1983838117854826 2.2628115383846064\n"
     ]
    }
   ],
   "source": [
    "print(a_gamma.mean(), b_gamma.mean())"
   ]
  },
  {
   "cell_type": "code",
   "execution_count": 40,
   "id": "d9377b68",
   "metadata": {
    "ExecuteTime": {
     "end_time": "2023-02-16T14:01:33.939722Z",
     "start_time": "2023-02-16T14:01:33.687252Z"
    }
   },
   "outputs": [
    {
     "data": {
      "image/png": "[encoded data removed]",
      "text/plain": [
       "<Figure size 700x700 with 1 Axes>"
      ]
     },
     "metadata": {},
     "output_type": "display_data"
    }
   ],
   "source": [
    "plt.figure(figsize=(7,7))\n",
    "_ = plt.hist(a_gamma, bins = 32, color='violet',  linewidth=2)\n",
    "_ = plt.hist(b_gamma, bins = 32, color='orange', alpha = 0.5, linewidth=2)"
   ]
  },
  {
   "cell_type": "code",
   "execution_count": 41,
   "id": "5a33b4ca",
   "metadata": {
    "ExecuteTime": {
     "end_time": "2023-02-16T14:01:36.339403Z",
     "start_time": "2023-02-16T14:01:36.333051Z"
    }
   },
   "outputs": [
    {
     "data": {
      "text/plain": [
       "{'ttest': [0.8332183809041801, False],\n",
       " 'ztest': [0.8330015364985848, False],\n",
       " 'MW': [0.6259351579327082, False]}"
      ]
     },
     "execution_count": 41,
     "metadata": {},
     "output_type": "execute_result"
    }
   ],
   "source": [
    "get_results_from_various_tests(a_gamma, b_gamma, alpha=0.05)"
   ]
  },
  {
   "cell_type": "markdown",
   "id": "ca3d4300",
   "metadata": {},
   "source": [
    "Увеличим выборки и разницу в параметрах распределения"
   ]
  },
  {
   "cell_type": "code",
   "execution_count": 42,
   "id": "f1bccb84",
   "metadata": {
    "ExecuteTime": {
     "end_time": "2023-02-16T14:07:29.992015Z",
     "start_time": "2023-02-16T14:07:29.988241Z"
    }
   },
   "outputs": [],
   "source": [
    "a_gamma = np.random.gamma(1, 24, size = 1000)\n",
    "b_gamma = np.random.gamma(1, 26, size = 1000)"
   ]
  },
  {
   "cell_type": "code",
   "execution_count": 43,
   "id": "22daf413",
   "metadata": {
    "ExecuteTime": {
     "end_time": "2023-02-16T14:07:30.869942Z",
     "start_time": "2023-02-16T14:07:30.866511Z"
    }
   },
   "outputs": [
    {
     "name": "stdout",
     "output_type": "stream",
     "text": [
      "23.312027350973498 26.024470440696163\n"
     ]
    }
   ],
   "source": [
    "print(a_gamma.mean(), b_gamma.mean())"
   ]
  },
  {
   "cell_type": "code",
   "execution_count": 45,
   "id": "cc987858",
   "metadata": {
    "ExecuteTime": {
     "end_time": "2023-02-16T14:07:34.502610Z",
     "start_time": "2023-02-16T14:07:34.241485Z"
    }
   },
   "outputs": [
    {
     "data": {
      "image/png": "[encoded data removed]",
      "text/plain": [
       "<Figure size 700x700 with 1 Axes>"
      ]
     },
     "metadata": {},
     "output_type": "display_data"
    }
   ],
   "source": [
    "plt.figure(figsize=(7,7))\n",
    "_ = plt.hist(a_gamma, bins = 32, color='violet',  linewidth=2)\n",
    "_ = plt.hist(b_gamma, bins = 32, color='orange',alpha = 0.5,  linewidth=2)"
   ]
  },
  {
   "cell_type": "code",
   "execution_count": 46,
   "id": "c0215b0e",
   "metadata": {
    "ExecuteTime": {
     "end_time": "2023-02-16T14:07:39.773287Z",
     "start_time": "2023-02-16T14:07:39.765825Z"
    }
   },
   "outputs": [
    {
     "data": {
      "text/plain": [
       "{'ttest': [0.01082803351458897, True],\n",
       " 'ztest': [0.010754031011010245, True],\n",
       " 'MW': [0.033502632518962204, True]}"
      ]
     },
     "execution_count": 46,
     "metadata": {},
     "output_type": "execute_result"
    }
   ],
   "source": [
    "get_results_from_various_tests(a_gamma, b_gamma, alpha=0.05)"
   ]
  },
  {
   "cell_type": "markdown",
   "id": "97525cb1",
   "metadata": {},
   "source": [
    "# MW-тест не проверяет разницу медиан"
   ]
  },
  {
   "cell_type": "code",
   "execution_count": 47,
   "id": "8a54cb11",
   "metadata": {},
   "outputs": [],
   "source": [
    "a = [-1]*100+[0]*10+[2]*100\n",
    "b = [-1]*100+[0]*10+[100500]*100"
   ]
  },
  {
   "cell_type": "code",
   "execution_count": 48,
   "id": "4c6c4cef",
   "metadata": {},
   "outputs": [
    {
     "data": {
      "text/plain": [
       "MannwhitneyuResult(statistic=17050.0, pvalue=1.54736025177025e-05)"
      ]
     },
     "execution_count": 48,
     "metadata": {},
     "output_type": "execute_result"
    }
   ],
   "source": [
    "stats.mannwhitneyu(a, b)"
   ]
  },
  {
   "cell_type": "markdown",
   "id": "006e59da",
   "metadata": {},
   "source": [
    "# Проверим мощность и корректность"
   ]
  },
  {
   "cell_type": "markdown",
   "id": "323111f1",
   "metadata": {},
   "source": [
    "Начнем с корректности"
   ]
  },
  {
   "cell_type": "markdown",
   "id": "8f1999bf",
   "metadata": {},
   "source": [
    "# Корректность"
   ]
  },
  {
   "cell_type": "code",
   "execution_count": 49,
   "id": "fd006b8c",
   "metadata": {
    "ExecuteTime": {
     "end_time": "2023-03-10T12:14:10.689701Z",
     "start_time": "2023-03-10T12:14:10.683607Z"
    }
   },
   "outputs": [],
   "source": [
    "def check_correctness(test, dist=np.random.normal, params=[5, 4], alpha=0.05):\n",
    "    \n",
    "    p_vals = []\n",
    "#     iters = 1000\n",
    "    \n",
    "    for _ in range(10000):\n",
    "        a = dist(25, params[0], size=1000)\n",
    "        b = dist(25, params[1], size=1000)\n",
    "        p = test(a, b)[1]\n",
    "        p_vals.append(p)\n",
    "        \n",
    "    p_vals = np.array(p_vals)\n",
    "    \n",
    "    print(plt.hist(p_vals))\n",
    "    \n",
    "    return p_vals[p_vals < alpha].shape[0] / p_vals.shape[0]"
   ]
  },
  {
   "cell_type": "code",
   "execution_count": 50,
   "id": "b52a94c0",
   "metadata": {
    "ExecuteTime": {
     "end_time": "2023-03-09T13:42:44.167385Z",
     "start_time": "2023-03-09T13:42:39.518483Z"
    }
   },
   "outputs": [
    {
     "name": "stdout",
     "output_type": "stream",
     "text": [
      "(array([ 996., 1007.,  987.,  946., 1002.,  999., 1005., 1024., 1007.,\n",
      "       1027.]), array([1.51158982e-05, 1.00012592e-01, 2.00010069e-01, 3.00007545e-01,\n",
      "       4.00005022e-01, 5.00002498e-01, 5.99999975e-01, 6.99997451e-01,\n",
      "       7.99994928e-01, 8.99992404e-01, 9.99989881e-01]), <BarContainer object of 10 artists>)\n"
     ]
    },
    {
     "data": {
      "text/plain": [
       "0.0491"
      ]
     },
     "execution_count": 50,
     "metadata": {},
     "output_type": "execute_result"
    },
    {
     "data": {
      "image/png": "[encoded data removed]",
      "text/plain": [
       "<Figure size 640x480 with 1 Axes>"
      ]
     },
     "metadata": {},
     "output_type": "display_data"
    }
   ],
   "source": [
    "check_correctness(stats.ttest_ind)"
   ]
  },
  {
   "cell_type": "markdown",
   "id": "399fa0b2",
   "metadata": {},
   "source": [
    "В целом, работает корректно"
   ]
  },
  {
   "cell_type": "code",
   "execution_count": 51,
   "id": "53c553d9",
   "metadata": {
    "ExecuteTime": {
     "end_time": "2023-03-09T13:43:01.588591Z",
     "start_time": "2023-03-09T13:42:52.151156Z"
    }
   },
   "outputs": [
    {
     "name": "stdout",
     "output_type": "stream",
     "text": [
      "(array([1042.,  994.,  968.,  981., 1035., 1008.,  997., 1041.,  954.,\n",
      "        980.]), array([2.98344208e-04, 1.00259242e-01, 2.00220139e-01, 3.00181036e-01,\n",
      "       4.00141933e-01, 5.00102831e-01, 6.00063728e-01, 7.00024625e-01,\n",
      "       7.99985523e-01, 8.99946420e-01, 9.99907317e-01]), <BarContainer object of 10 artists>)\n"
     ]
    },
    {
     "data": {
      "text/plain": [
       "0.0539"
      ]
     },
     "execution_count": 51,
     "metadata": {},
     "output_type": "execute_result"
    },
    {
     "data": {
      "image/png": "[encoded data removed]",
      "text/plain": [
       "<Figure size 640x480 with 1 Axes>"
      ]
     },
     "metadata": {},
     "output_type": "display_data"
    }
   ],
   "source": [
    "check_correctness(stats.mannwhitneyu)"
   ]
  },
  {
   "cell_type": "markdown",
   "id": "afb7660f",
   "metadata": {},
   "source": [
    "А тут ошибка уже заметно выше "
   ]
  },
  {
   "cell_type": "markdown",
   "id": "f44a205a",
   "metadata": {},
   "source": [
    "Поменяем дисперсии:"
   ]
  },
  {
   "cell_type": "code",
   "execution_count": 52,
   "id": "8f4a0758",
   "metadata": {
    "ExecuteTime": {
     "end_time": "2023-03-09T13:48:01.955234Z",
     "start_time": "2023-03-09T13:47:57.279719Z"
    }
   },
   "outputs": [
    {
     "name": "stdout",
     "output_type": "stream",
     "text": [
      "(array([1036.,  950., 1065.,  968., 1005.,  970., 1001.,  981., 1032.,\n",
      "        992.]), array([1.26825439e-04, 1.00109783e-01, 2.00092740e-01, 3.00075697e-01,\n",
      "       4.00058654e-01, 5.00041611e-01, 6.00024568e-01, 7.00007525e-01,\n",
      "       7.99990482e-01, 8.99973439e-01, 9.99956396e-01]), <BarContainer object of 10 artists>)\n"
     ]
    },
    {
     "data": {
      "text/plain": [
       "0.0518"
      ]
     },
     "execution_count": 52,
     "metadata": {},
     "output_type": "execute_result"
    },
    {
     "data": {
      "image/png": "[encoded data removed]",
      "text/plain": [
       "<Figure size 640x480 with 1 Axes>"
      ]
     },
     "metadata": {},
     "output_type": "display_data"
    }
   ],
   "source": [
    "check_correctness(stats.ttest_ind, params=[80, 2])"
   ]
  },
  {
   "cell_type": "code",
   "execution_count": null,
   "id": "1031d5b0",
   "metadata": {
    "ExecuteTime": {
     "end_time": "2023-03-09T13:52:15.959374Z",
     "start_time": "2023-03-09T13:52:11.910318Z"
    }
   },
   "outputs": [],
   "source": [
    "#А если было бы так:\n",
    "\n",
    "p_vals = []\n",
    "iters = 1000\n",
    "    \n",
    "for _ in range(10000):\n",
    "    a = np.random.normal(25, 80, size=1000)\n",
    "    b = np.random.normal(25, 2, size=100)\n",
    "    p = stats.ttest_ind(a, b).pvalue\n",
    "    p_vals.append(p)\n",
    "        \n",
    "p_vals = np.array(p_vals)\n",
    "    \n",
    "plt.hist(p_vals, color='red')\n",
    "    \n",
    "print(p_vals[p_vals < 0.05].shape[0] / p_vals.shape[0])"
   ]
  },
  {
   "cell_type": "code",
   "execution_count": null,
   "id": "37116a86",
   "metadata": {
    "ExecuteTime": {
     "end_time": "2023-03-09T13:52:34.830289Z",
     "start_time": "2023-03-09T13:52:30.392012Z"
    }
   },
   "outputs": [],
   "source": [
    "p_vals = []\n",
    "iters = 1000\n",
    "    \n",
    "for _ in range(10000):\n",
    "    a = np.random.normal(25, 80, size=1000)\n",
    "    b = np.random.normal(25, 2, size=100)\n",
    "    p = stats.ttest_ind(a, b, equal_var=False).pvalue\n",
    "    p_vals.append(p)\n",
    "        \n",
    "p_vals = np.array(p_vals)\n",
    "    \n",
    "plt.hist(p_vals, color='green')\n",
    "    \n",
    "print(p_vals[p_vals < 0.05].shape[0] / p_vals.shape[0])"
   ]
  },
  {
   "cell_type": "code",
   "execution_count": null,
   "id": "a9f9b3c6",
   "metadata": {},
   "outputs": [],
   "source": []
  },
  {
   "cell_type": "markdown",
   "id": "4ce02db9",
   "metadata": {},
   "source": [
    "Проверим на другом распределении:"
   ]
  },
  {
   "cell_type": "code",
   "execution_count": 53,
   "id": "7112bc00",
   "metadata": {
    "ExecuteTime": {
     "end_time": "2023-03-09T15:11:11.836125Z",
     "start_time": "2023-03-09T15:11:06.617203Z"
    }
   },
   "outputs": [
    {
     "name": "stdout",
     "output_type": "stream",
     "text": [
      "(array([ 917., 1185., 1226., 1144., 1022., 1034.,  921.,  851.,  807.,\n",
      "        893.]), array([4.30264259e-04, 1.00366168e-01, 2.00302072e-01, 3.00237977e-01,\n",
      "       4.00173881e-01, 5.00109785e-01, 6.00045689e-01, 6.99981593e-01,\n",
      "       7.99917497e-01, 8.99853401e-01, 9.99789305e-01]), <BarContainer object of 10 artists>)\n"
     ]
    },
    {
     "data": {
      "text/plain": [
       "0.0393"
      ]
     },
     "execution_count": 53,
     "metadata": {},
     "output_type": "execute_result"
    },
    {
     "data": {
      "image/png": "[encoded data removed]",
      "text/plain": [
       "<Figure size 640x480 with 1 Axes>"
      ]
     },
     "metadata": {},
     "output_type": "display_data"
    }
   ],
   "source": [
    "check_correctness(stats.ttest_ind, dist=np.random.lognormal, params=[2, 2])"
   ]
  },
  {
   "cell_type": "markdown",
   "id": "5fabeed7",
   "metadata": {},
   "source": [
    "Ошибка в установленных рамках, но распределение p-value далеко от равномерного"
   ]
  },
  {
   "cell_type": "markdown",
   "id": "bb3fcbae",
   "metadata": {},
   "source": [
    "Попробуем другой статкритерий:"
   ]
  },
  {
   "cell_type": "code",
   "execution_count": 54,
   "id": "40229722",
   "metadata": {
    "ExecuteTime": {
     "end_time": "2023-03-10T12:14:23.930066Z",
     "start_time": "2023-03-10T12:14:19.666853Z"
    }
   },
   "outputs": [
    {
     "name": "stdout",
     "output_type": "stream",
     "text": [
      "(array([ 893., 1143., 1214., 1181., 1084., 1006.,  944.,  884.,  818.,\n",
      "        833.]), array([9.46214924e-04, 1.00847684e-01, 2.00749154e-01, 3.00650623e-01,\n",
      "       4.00552093e-01, 5.00453562e-01, 6.00355032e-01, 7.00256501e-01,\n",
      "       8.00157971e-01, 9.00059440e-01, 9.99960910e-01]), <BarContainer object of 10 artists>)\n"
     ]
    },
    {
     "data": {
      "text/plain": [
       "0.0351"
      ]
     },
     "execution_count": 54,
     "metadata": {},
     "output_type": "execute_result"
    },
    {
     "data": {
      "image/png": "[encoded data removed]",
      "text/plain": [
       "<Figure size 640x480 with 1 Axes>"
      ]
     },
     "metadata": {},
     "output_type": "display_data"
    }
   ],
   "source": [
    "check_correctness(ztest, dist=np.random.lognormal, params=[2, 2])"
   ]
  },
  {
   "cell_type": "code",
   "execution_count": 55,
   "id": "8f5a6da4",
   "metadata": {
    "ExecuteTime": {
     "end_time": "2023-03-10T12:15:39.884500Z",
     "start_time": "2023-03-10T12:15:30.025539Z"
    }
   },
   "outputs": [
    {
     "name": "stdout",
     "output_type": "stream",
     "text": [
      "(array([ 993.,  993., 1012.,  988.,  998.,  985., 1011.,  976., 1012.,\n",
      "       1032.]), array([4.41917059e-05, 1.00030504e-01, 2.00016817e-01, 3.00003129e-01,\n",
      "       3.99989442e-01, 4.99975755e-01, 5.99962067e-01, 6.99948380e-01,\n",
      "       7.99934692e-01, 8.99921005e-01, 9.99907317e-01]), <BarContainer object of 10 artists>)\n"
     ]
    },
    {
     "data": {
      "text/plain": [
       "0.0502"
      ]
     },
     "execution_count": 55,
     "metadata": {},
     "output_type": "execute_result"
    },
    {
     "data": {
      "image/png": "[encoded data removed]",
      "text/plain": [
       "<Figure size 640x480 with 1 Axes>"
      ]
     },
     "metadata": {},
     "output_type": "display_data"
    }
   ],
   "source": [
    "check_correctness(stats.mannwhitneyu, dist=np.random.lognormal, params=[2, 2])"
   ]
  },
  {
   "cell_type": "markdown",
   "id": "dbd6862e",
   "metadata": {},
   "source": [
    "Ошибка заметно выше, но распределение равномернее\n",
    "Почему ошибка выше?\n",
    "Каким будем пользоваться критерием в итоге?"
   ]
  },
  {
   "cell_type": "markdown",
   "id": "632fbb6c",
   "metadata": {},
   "source": [
    "Попробуем посмотреть на выборках разного размера:"
   ]
  },
  {
   "cell_type": "code",
   "execution_count": 57,
   "id": "ffa23bde",
   "metadata": {
    "ExecuteTime": {
     "end_time": "2023-03-10T12:40:57.962623Z",
     "start_time": "2023-03-10T12:40:50.897636Z"
    }
   },
   "outputs": [
    {
     "name": "stdout",
     "output_type": "stream",
     "text": [
      "0.049\n"
     ]
    },
    {
     "data": {
      "image/png": "[encoded data removed]",
      "text/plain": [
       "<Figure size 640x480 with 1 Axes>"
      ]
     },
     "metadata": {},
     "output_type": "display_data"
    }
   ],
   "source": [
    "p_vals = []\n",
    "iters = 1000\n",
    "    \n",
    "for _ in range(1000):\n",
    "    a = np.random.lognormal(2, 2, size=100000)\n",
    "    b = np.random.lognormal(2, 2, size=100000)\n",
    "#     p = stats.mannwhitneyu(a, b)[1]\n",
    "    p = stats.ttest_ind(a, b).pvalue\n",
    "#     p_vals.append(p)\n",
    "    p_vals.append(p)\n",
    "        \n",
    "p_vals = np.array(p_vals)\n",
    "    \n",
    "_ = plt.hist(p_vals, color='green')\n",
    "    \n",
    "print(p_vals[p_vals < 0.05].shape[0] / p_vals.shape[0])"
   ]
  },
  {
   "cell_type": "code",
   "execution_count": 60,
   "id": "401eeea7",
   "metadata": {},
   "outputs": [
    {
     "data": {
      "image/png": "[encoded data removed]",
      "text/plain": [
       "<Figure size 640x480 with 1 Axes>"
      ]
     },
     "metadata": {},
     "output_type": "display_data"
    }
   ],
   "source": [
    "_ = plt.hist(np.random.lognormal(2, 2, size=(100000,1000)).mean(axis =0))"
   ]
  },
  {
   "cell_type": "code",
   "execution_count": null,
   "id": "4338713f",
   "metadata": {},
   "outputs": [],
   "source": []
  },
  {
   "cell_type": "code",
   "execution_count": null,
   "id": "f604477e",
   "metadata": {
    "ExecuteTime": {
     "end_time": "2023-03-10T12:47:58.859414Z",
     "start_time": "2023-03-10T12:47:52.014823Z"
    }
   },
   "outputs": [],
   "source": [
    "p_vals = []\n",
    "iters = 1000\n",
    "    \n",
    "for _ in range(10000):\n",
    "    a = np.random.exponential(2, size = 1000)\n",
    "    b = np.random.exponential(2, size = 100)\n",
    "    p = stats.mannwhitneyu(a, b)[1]\n",
    "    p_vals.append(p)\n",
    "        \n",
    "p_vals = np.array(p_vals)\n",
    "    \n",
    "plt.hist(p_vals, color='orange')\n",
    "    \n",
    "print(p_vals[p_vals < 0.05].shape[0] / p_vals.shape[0])"
   ]
  },
  {
   "cell_type": "code",
   "execution_count": null,
   "id": "fe5127fa",
   "metadata": {
    "ExecuteTime": {
     "end_time": "2023-03-10T13:03:11.883235Z",
     "start_time": "2023-03-10T13:03:08.291464Z"
    }
   },
   "outputs": [],
   "source": [
    "p_vals = []\n",
    "iters = 1000\n",
    "    \n",
    "for _ in range(10000):\n",
    "    a = np.random.exponential(2, size = 18)\n",
    "    b = np.random.exponential(2, size = 18)\n",
    "    p = stats.mannwhitneyu(a, b)[1]\n",
    "    p_vals.append(p)\n",
    "        \n",
    "p_vals = np.array(p_vals)\n",
    "    \n",
    "plt.hist(p_vals, color='violet')\n",
    "    \n",
    "print(p_vals[p_vals < 0.05].shape[0] / p_vals.shape[0])"
   ]
  },
  {
   "cell_type": "markdown",
   "id": "e2fc003c",
   "metadata": {},
   "source": [
    "# Мощность"
   ]
  },
  {
   "cell_type": "code",
   "execution_count": null,
   "id": "73b07185",
   "metadata": {},
   "outputs": [],
   "source": [
    "Проверка мощности связана с вычислением ошибки 2-го рода. Также производится на симуляциях и ресемплинге"
   ]
  },
  {
   "cell_type": "code",
   "execution_count": 61,
   "id": "30f311c4",
   "metadata": {
    "ExecuteTime": {
     "end_time": "2023-03-10T14:53:30.384396Z",
     "start_time": "2023-03-10T14:53:25.728550Z"
    }
   },
   "outputs": [
    {
     "name": "stdout",
     "output_type": "stream",
     "text": [
      "0.6043\n"
     ]
    },
    {
     "data": {
      "image/png": "[encoded data removed]",
      "text/plain": [
       "<Figure size 640x480 with 1 Axes>"
      ]
     },
     "metadata": {},
     "output_type": "display_data"
    }
   ],
   "source": [
    "p_vals = []\n",
    "iters = 1000\n",
    "    \n",
    "for _ in range(10000):\n",
    "    a = np.random.normal(25, 10, size = 1000)\n",
    "    b = np.random.normal(26, 10, size = 1000)\n",
    "    p = stats.ttest_ind(a, b)[1]\n",
    "    p_vals.append(p)\n",
    "        \n",
    "p_vals = np.array(p_vals)\n",
    "  \n",
    "plt.hist(p_vals, color='orange')\n",
    "    \n",
    "print(p_vals[p_vals < 0.05].shape[0] / p_vals.shape[0])"
   ]
  },
  {
   "cell_type": "markdown",
   "id": "ed8ba500",
   "metadata": {
    "collapsed": true
   },
   "source": [
    "Попробуем проверить мощность на группах меньшего размера, но с теми же параметрами:"
   ]
  },
  {
   "cell_type": "code",
   "execution_count": 62,
   "id": "7ea7d3fb",
   "metadata": {
    "ExecuteTime": {
     "end_time": "2023-03-10T14:54:54.866029Z",
     "start_time": "2023-03-10T14:54:51.535287Z"
    }
   },
   "outputs": [
    {
     "name": "stdout",
     "output_type": "stream",
     "text": [
      "0.1114\n"
     ]
    },
    {
     "data": {
      "image/png": "[encoded data removed]",
      "text/plain": [
       "<Figure size 640x480 with 1 Axes>"
      ]
     },
     "metadata": {},
     "output_type": "display_data"
    }
   ],
   "source": [
    "p_vals = []\n",
    "iters = 1000\n",
    "    \n",
    "for _ in range(10000):\n",
    "    a = np.random.normal(25, 10, size = 100)\n",
    "    b = np.random.normal(26, 10, size = 100)\n",
    "    p = stats.ttest_ind(a, b)[1]\n",
    "    p_vals.append(p)\n",
    "        \n",
    "p_vals = np.array(p_vals)\n",
    "  \n",
    "plt.hist(p_vals, color='yellow')\n",
    "    \n",
    "print(p_vals[p_vals < 0.05].shape[0] / p_vals.shape[0])"
   ]
  },
  {
   "cell_type": "code",
   "execution_count": null,
   "id": "ab3d389e",
   "metadata": {},
   "outputs": [],
   "source": [
    "А если разница средних будет больше?"
   ]
  },
  {
   "cell_type": "code",
   "execution_count": 63,
   "id": "067cb915",
   "metadata": {
    "ExecuteTime": {
     "end_time": "2023-03-10T15:02:13.397711Z",
     "start_time": "2023-03-10T15:02:10.051608Z"
    }
   },
   "outputs": [
    {
     "name": "stdout",
     "output_type": "stream",
     "text": [
      "0.94\n"
     ]
    },
    {
     "data": {
      "image/png": "[encoded data removed]",
      "text/plain": [
       "<Figure size 640x480 with 1 Axes>"
      ]
     },
     "metadata": {},
     "output_type": "display_data"
    }
   ],
   "source": [
    "p_vals = []\n",
    "iters = 1000\n",
    "    \n",
    "for _ in range(1000):\n",
    "    a = np.random.normal(25, 10, size = 100)\n",
    "    b = np.random.normal(30, 10, size = 100)\n",
    "    p = stats.ttest_ind(a, b)[1]\n",
    "    p_vals.append(p)\n",
    "        \n",
    "p_vals = np.array(p_vals)\n",
    "  \n",
    "plt.hist(p_vals, color='coral')\n",
    "    \n",
    "print(p_vals[p_vals < 0.05].shape[0] / p_vals.shape[0])"
   ]
  },
  {
   "cell_type": "markdown",
   "id": "056aec58",
   "metadata": {
    "collapsed": true
   },
   "source": [
    "А если изменим дисперсии?"
   ]
  },
  {
   "cell_type": "code",
   "execution_count": 64,
   "id": "5573a634",
   "metadata": {
    "ExecuteTime": {
     "end_time": "2023-03-10T14:56:13.121774Z",
     "start_time": "2023-03-10T14:56:09.784614Z"
    }
   },
   "outputs": [
    {
     "name": "stdout",
     "output_type": "stream",
     "text": [
      "0.2\n"
     ]
    },
    {
     "data": {
      "image/png": "[encoded data removed]",
      "text/plain": [
       "<Figure size 640x480 with 1 Axes>"
      ]
     },
     "metadata": {},
     "output_type": "display_data"
    }
   ],
   "source": [
    "p_vals = []\n",
    "iters = 1000\n",
    "    \n",
    "for _ in range(1000):\n",
    "    a = np.random.normal(25, 6, size = 100)\n",
    "    b = np.random.normal(26, 6, size = 100)\n",
    "    p = stats.ttest_ind(a, b)[1]\n",
    "    p_vals.append(p)\n",
    "        \n",
    "p_vals = np.array(p_vals)\n",
    "  \n",
    "plt.hist(p_vals, color='green')\n",
    "    \n",
    "print(p_vals[p_vals < 0.05].shape[0] / p_vals.shape[0])"
   ]
  },
  {
   "cell_type": "code",
   "execution_count": 65,
   "id": "16dfcf74",
   "metadata": {
    "ExecuteTime": {
     "end_time": "2023-03-10T14:58:51.416082Z",
     "start_time": "2023-03-10T14:58:46.028080Z"
    }
   },
   "outputs": [
    {
     "name": "stdout",
     "output_type": "stream",
     "text": [
      "0.1059\n"
     ]
    },
    {
     "data": {
      "image/png": "[encoded data removed]",
      "text/plain": [
       "<Figure size 640x480 with 1 Axes>"
      ]
     },
     "metadata": {},
     "output_type": "display_data"
    }
   ],
   "source": [
    "p_vals = []\n",
    "iters = 1000\n",
    "    \n",
    "for _ in range(10000):\n",
    "    a = np.random.normal(25, 12, size = 1000)\n",
    "    b = np.random.normal(26, 46, size = 1000)\n",
    "    p = stats.ttest_ind(a, b, equal_var=False)[1]\n",
    "    p_vals.append(p)\n",
    "        \n",
    "p_vals = np.array(p_vals)\n",
    "  \n",
    "plt.hist(p_vals, color='blue')\n",
    "    \n",
    "print(p_vals[p_vals < 0.05].shape[0] / p_vals.shape[0])"
   ]
  },
  {
   "cell_type": "markdown",
   "id": "d9ffbc82",
   "metadata": {},
   "source": [
    "Увеличиваем дисперсии - падает мощность"
   ]
  },
  {
   "cell_type": "code",
   "execution_count": 66,
   "id": "1031d1d8",
   "metadata": {
    "ExecuteTime": {
     "end_time": "2023-03-10T15:00:57.726915Z",
     "start_time": "2023-03-10T15:00:52.798894Z"
    }
   },
   "outputs": [
    {
     "name": "stdout",
     "output_type": "stream",
     "text": [
      "0.2447\n"
     ]
    },
    {
     "data": {
      "image/png": "[encoded data removed]",
      "text/plain": [
       "<Figure size 640x480 with 1 Axes>"
      ]
     },
     "metadata": {},
     "output_type": "display_data"
    }
   ],
   "source": [
    "p_vals = []\n",
    "iters = 1000\n",
    "    \n",
    "for _ in range(10000):\n",
    "    a = np.random.normal(25, 6, size = 1000)\n",
    "    b = np.random.normal(26, 24, size = 1000)\n",
    "    p = stats.ttest_ind(a, b, equal_var=False)[1]\n",
    "    p_vals.append(p)\n",
    "        \n",
    "p_vals = np.array(p_vals)\n",
    "  \n",
    "plt.hist(p_vals, color='blue')\n",
    "    \n",
    "print(p_vals[p_vals < 0.05].shape[0] / p_vals.shape[0])"
   ]
  },
  {
   "cell_type": "markdown",
   "id": "b1d1994d",
   "metadata": {},
   "source": [
    "Уменьшили дисперсии (но оставили различные в группах) - выросла мощность"
   ]
  },
  {
   "cell_type": "markdown",
   "id": "3e2ce937",
   "metadata": {
    "collapsed": true
   },
   "source": [
    "Попробуем с другим статкритерием:"
   ]
  },
  {
   "cell_type": "code",
   "execution_count": 67,
   "id": "e2d46084",
   "metadata": {},
   "outputs": [
    {
     "name": "stdout",
     "output_type": "stream",
     "text": [
      "0.2596\n"
     ]
    },
    {
     "data": {
      "image/png": "[encoded data removed]",
      "text/plain": [
       "<Figure size 640x480 with 1 Axes>"
      ]
     },
     "metadata": {},
     "output_type": "display_data"
    }
   ],
   "source": [
    "p_vals = []\n",
    "iters = 1000\n",
    "    \n",
    "for _ in range(10000):\n",
    "    a = np.random.normal(25, 6, size = 1000)\n",
    "    b = np.random.normal(26, 24, size = 1000)\n",
    "    p = stats.mannwhitneyu(a, b)[1]\n",
    "    p_vals.append(p)\n",
    "        \n",
    "p_vals = np.array(p_vals)\n",
    "  \n",
    "plt.hist(p_vals, color='brown')\n",
    "    \n",
    "print(p_vals[p_vals < 0.05].shape[0] / p_vals.shape[0])"
   ]
  },
  {
   "cell_type": "markdown",
   "id": "13a30883",
   "metadata": {},
   "source": [
    "Сравним мощность разных критериев для НЕномального распределения"
   ]
  },
  {
   "cell_type": "code",
   "execution_count": null,
   "id": "d08a1183",
   "metadata": {},
   "outputs": [],
   "source": [
    "p_vals = []\n",
    "iters = 1000\n",
    "    \n",
    "for _ in range(10000):\n",
    "    a = np.random.lognormal(25, 6, size = 1000)\n",
    "    b = np.random.lognormal(26, 7, size = 1000)\n",
    "    p = stats.mannwhitneyu(a, b)[1]\n",
    "    p_vals.append(p)\n",
    "        \n",
    "p_vals = np.array(p_vals)\n",
    "  \n",
    "plt.hist(p_vals, color='magenta')\n",
    "    \n",
    "print(p_vals[p_vals < 0.05].shape[0] / p_vals.shape[0])"
   ]
  },
  {
   "cell_type": "code",
   "execution_count": null,
   "id": "1880d148",
   "metadata": {},
   "outputs": [],
   "source": [
    "p_vals = []\n",
    "iters = 1000\n",
    "    \n",
    "for _ in range(10000):\n",
    "    a = np.random.lognormal(25, 6, size = 1000)\n",
    "    b = np.random.lognormal(26, 7, size = 1000)\n",
    "    p = stats.ttest_ind(a, b, equal_var=False)[1]\n",
    "    p_vals.append(p)\n",
    "        \n",
    "p_vals = np.array(p_vals)\n",
    "  \n",
    "plt.hist(p_vals, color='violet')\n",
    "    \n",
    "print(p_vals[p_vals < 0.05].shape[0] / p_vals.shape[0])"
   ]
  },
  {
   "cell_type": "code",
   "execution_count": null,
   "id": "471f4dca",
   "metadata": {},
   "outputs": [],
   "source": []
  },
  {
   "cell_type": "code",
   "execution_count": null,
   "id": "bf20d59d",
   "metadata": {},
   "outputs": [],
   "source": []
  },
  {
   "cell_type": "markdown",
   "id": "9b916ae4",
   "metadata": {},
   "source": [
    "# Проверка на нормальность"
   ]
  },
  {
   "cell_type": "markdown",
   "id": "6d2780bb",
   "metadata": {
    "collapsed": true
   },
   "source": [
    "Можно просто построить гистограмму:"
   ]
  },
  {
   "cell_type": "code",
   "execution_count": 69,
   "id": "ee6043e7",
   "metadata": {
    "ExecuteTime": {
     "end_time": "2023-03-10T13:11:54.779357Z",
     "start_time": "2023-03-10T13:11:54.649028Z"
    }
   },
   "outputs": [
    {
     "data": {
      "image/png": "[encoded data removed]",
      "text/plain": [
       "<Figure size 640x480 with 1 Axes>"
      ]
     },
     "metadata": {},
     "output_type": "display_data"
    }
   ],
   "source": [
    "data = np.random.normal(40, 15, size=500)\n",
    "_ = plt.hist(data, color='pink')"
   ]
  },
  {
   "cell_type": "code",
   "execution_count": 70,
   "id": "04c6789d",
   "metadata": {},
   "outputs": [],
   "source": []
  },
  {
   "cell_type": "markdown",
   "id": "15718a76",
   "metadata": {},
   "source": [
    "А можно использовать более точные методы:"
   ]
  },
  {
   "cell_type": "code",
   "execution_count": 71,
   "id": "70886e70",
   "metadata": {
    "ExecuteTime": {
     "end_time": "2023-03-10T13:12:04.518695Z",
     "start_time": "2023-03-10T13:12:04.389955Z"
    }
   },
   "outputs": [
    {
     "data": {
      "image/png": "[encoded data removed]",
      "text/plain": [
       "<Figure size 640x480 with 1 Axes>"
      ]
     },
     "metadata": {},
     "output_type": "display_data"
    }
   ],
   "source": [
    "data = np.random.normal(40, 15, size=500)\n",
    "fig = plt.figure()\n",
    "ax = fig.add_subplot(111)\n",
    "x = data\n",
    "res = scipy.stats.probplot(x, dist='norm', sparams=(2.5,), plot=ax)\n",
    "#ax.set_title(\"Q-Q plot\")"
   ]
  },
  {
   "cell_type": "code",
   "execution_count": 72,
   "id": "a5fb49eb",
   "metadata": {
    "ExecuteTime": {
     "end_time": "2023-03-10T13:14:27.894619Z",
     "start_time": "2023-03-10T13:14:27.890053Z"
    }
   },
   "outputs": [
    {
     "data": {
      "text/plain": [
       "ShapiroResult(statistic=0.997188291274887, pvalue=0.5532434267953885)"
      ]
     },
     "execution_count": 72,
     "metadata": {},
     "output_type": "execute_result"
    }
   ],
   "source": [
    "stats.shapiro(data)"
   ]
  },
  {
   "cell_type": "markdown",
   "id": "8273b9c0",
   "metadata": {},
   "source": [
    "Есть и другие тесты на проверку нормальности:\n",
    "https://docs.scipy.org/doc/scipy/reference/generated/scipy.stats.normaltest.html "
   ]
  },
  {
   "cell_type": "code",
   "execution_count": null,
   "id": "422b2e43",
   "metadata": {
    "ExecuteTime": {
     "end_time": "2023-03-10T13:17:41.774732Z",
     "start_time": "2023-03-10T13:17:41.768810Z"
    }
   },
   "outputs": [],
   "source": [
    "stats.normaltest(data)"
   ]
  },
  {
   "cell_type": "markdown",
   "id": "65f093cf",
   "metadata": {},
   "source": [
    "Попробуем то же самое для данных не из нормального распределения:"
   ]
  },
  {
   "cell_type": "code",
   "execution_count": null,
   "id": "de6cc04b",
   "metadata": {
    "ExecuteTime": {
     "end_time": "2023-03-10T13:20:35.153146Z",
     "start_time": "2023-03-10T13:20:35.149768Z"
    }
   },
   "outputs": [],
   "source": [
    "data_bin = np.random.binomial(1, 0.1, size =500)"
   ]
  },
  {
   "cell_type": "code",
   "execution_count": null,
   "id": "dd0c62ef",
   "metadata": {
    "ExecuteTime": {
     "end_time": "2023-03-10T13:21:55.676203Z",
     "start_time": "2023-03-10T13:21:55.670906Z"
    }
   },
   "outputs": [],
   "source": [
    "print(stats.normaltest(data_bin))\n",
    "print(stats.shapiro(data_bin))"
   ]
  },
  {
   "cell_type": "code",
   "execution_count": null,
   "id": "80b9fa35",
   "metadata": {
    "ExecuteTime": {
     "end_time": "2023-03-10T13:22:30.240093Z",
     "start_time": "2023-03-10T13:22:30.099803Z"
    }
   },
   "outputs": [],
   "source": [
    "fig = plt.figure()\n",
    "ax = fig.add_subplot(111)\n",
    "x = data_bin\n",
    "res = scipy.stats.probplot(x, dist='norm', sparams=(2.5,), plot=ax)"
   ]
  },
  {
   "cell_type": "markdown",
   "id": "40f81d47",
   "metadata": {},
   "source": [
    "# Проверка на равномерность распределения"
   ]
  },
  {
   "cell_type": "code",
   "execution_count": 73,
   "id": "96464b36",
   "metadata": {
    "ExecuteTime": {
     "end_time": "2023-03-10T13:28:07.652187Z",
     "start_time": "2023-03-10T13:28:07.514933Z"
    }
   },
   "outputs": [
    {
     "data": {
      "text/plain": [
       "(array([45., 59., 50., 51., 44., 46., 52., 46., 61., 46.]),\n",
       " array([0.01201934, 0.51061983, 1.00922032, 1.50782081, 2.0064213 ,\n",
       "        2.50502179, 3.00362228, 3.50222277, 4.00082326, 4.49942375,\n",
       "        4.99802423]),\n",
       " <BarContainer object of 10 artists>)"
      ]
     },
     "execution_count": 73,
     "metadata": {},
     "output_type": "execute_result"
    },
    {
     "data": {
      "image/png": "[encoded data removed]",
      "text/plain": [
       "<Figure size 640x480 with 1 Axes>"
      ]
     },
     "metadata": {},
     "output_type": "display_data"
    }
   ],
   "source": [
    "data_uniform = np.random.uniform(0, 5, size=500)\n",
    "plt.hist(data_uniform, color='grey')"
   ]
  },
  {
   "cell_type": "code",
   "execution_count": 74,
   "id": "087d98b3",
   "metadata": {
    "ExecuteTime": {
     "end_time": "2023-03-10T13:28:51.325928Z",
     "start_time": "2023-03-10T13:28:51.318750Z"
    }
   },
   "outputs": [
    {
     "data": {
      "text/plain": [
       "KstestResult(statistic=0.792, pvalue=0.0, statistic_location=1.017658654742604, statistic_sign=-1)"
      ]
     },
     "execution_count": 74,
     "metadata": {},
     "output_type": "execute_result"
    }
   ],
   "source": [
    "stats.kstest(data_uniform, stats.uniform(loc=0.0, scale=1.0).cdf)"
   ]
  },
  {
   "cell_type": "markdown",
   "id": "4d83e358",
   "metadata": {},
   "source": [
    "Можно таким образом проверить равномерность распределения p-value:"
   ]
  },
  {
   "cell_type": "code",
   "execution_count": null,
   "id": "7af39622",
   "metadata": {
    "ExecuteTime": {
     "end_time": "2023-03-10T13:32:12.349219Z",
     "start_time": "2023-03-10T13:32:05.191261Z"
    }
   },
   "outputs": [],
   "source": [
    "p_vals = []\n",
    "iters = 1000\n",
    "    \n",
    "for _ in range(10000):\n",
    "    a = np.random.exponential(2, size = 1000)\n",
    "    b = np.random.exponential(2, size = 100)\n",
    "    p = stats.mannwhitneyu(a, b)[1]\n",
    "    p_vals.append(p)\n",
    "        \n",
    "p_vals = np.array(p_vals)\n",
    "    \n",
    "plt.hist(p_vals, color='orange')\n",
    "    \n",
    "print(p_vals[p_vals < 0.05].shape[0] / p_vals.shape[0])\n",
    "print(stats.kstest(p_vals, stats.uniform(loc=0.0, scale=1.0).cdf))"
   ]
  },
  {
   "cell_type": "code",
   "execution_count": null,
   "id": "6f0e50ca",
   "metadata": {
    "ExecuteTime": {
     "end_time": "2023-03-10T13:33:57.338747Z",
     "start_time": "2023-03-10T13:33:52.967166Z"
    }
   },
   "outputs": [],
   "source": [
    "p_vals = []\n",
    "iters = 1000\n",
    "    \n",
    "for _ in range(10000):\n",
    "    a = np.random.normal(25, 80, size=1000)\n",
    "    b = np.random.normal(25, 2, size=100)\n",
    "    p = stats.ttest_ind(a, b, equal_var=False).pvalue\n",
    "    p_vals.append(p)\n",
    "        \n",
    "p_vals = np.array(p_vals)\n",
    "    \n",
    "plt.hist(p_vals, color='green')\n",
    "    \n",
    "print(p_vals[p_vals < 0.05].shape[0] / p_vals.shape[0])\n",
    "print(stats.kstest(p_vals, stats.uniform(loc=0.0, scale=1.0).cdf))"
   ]
  },
  {
   "cell_type": "code",
   "execution_count": null,
   "id": "c5ddfeea",
   "metadata": {},
   "outputs": [],
   "source": []
  },
  {
   "cell_type": "markdown",
   "id": "f729d12c",
   "metadata": {
    "collapsed": true
   },
   "source": [
    "# Д3 № 1"
   ]
  },
  {
   "cell_type": "markdown",
   "id": "767316da",
   "metadata": {},
   "source": [
    "1. Проверить работу критериев MW, Z, T на:\n",
    "- выборках с выбросами размера 1000\n",
    "- выборках с выбросами размера 100\n",
    "\n",
    "2. Проверить выполнение ЦПТ для распределений (надо написать функцию):\n",
    "- нормального\n",
    "- биномиального\n",
    "- экспоненциального\n",
    "- гамма\n",
    "\n",
    "Проверять каждое для случая 100 и 1000 наблюдений в выборке.\n",
    "При необходимости можно пользоваться критериями для проверки нормальности распределения\n",
    "Сделать выводы\n",
    "\n",
    "3. Просимулировать самостоятельно проверку критерия:\n",
    "- сгенерировать выборку любого размера и распределения (нормальное распределение не брать!)\n",
    "- обосновать выбор критерия (или невозможность выбрать критерий)\n",
    "- вычислить ошибки 1 и 2 рода\n",
    "- посчитать мощность и корректность\n",
    "- проверить распределение p-value на равномерность"
   ]
  },
  {
   "cell_type": "code",
   "execution_count": null,
   "id": "ec62f090",
   "metadata": {},
   "outputs": [],
   "source": []
  }
 ],
 "metadata": {
  "kernelspec": {
   "display_name": "Python 3 (ipykernel)",
   "language": "python",
   "name": "python3"
  },
  "language_info": {
   "codemirror_mode": {
    "name": "ipython",
    "version": 3
   },
   "file_extension": ".py",
   "mimetype": "text/x-python",
   "name": "python",
   "nbconvert_exporter": "python",
   "pygments_lexer": "ipython3",
   "version": "3.11.8"
  }
 },
 "nbformat": 4,
 "nbformat_minor": 5
}
