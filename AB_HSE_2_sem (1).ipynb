{
 "cells": [
  {
   "cell_type": "code",
   "execution_count": 7,
   "id": "c753b93c",
   "metadata": {},
   "outputs": [],
   "source": [
    "import numpy as np\n",
    "import scipy\n",
    "import matplotlib.pyplot as plt\n",
    "import scipy.stats as stats\n",
    "import statsmodels\n",
    "import statsmodels.sandbox.stats.multicomp\n",
    "import pandas as pd\n",
    "from statsmodels.stats.weightstats import ztest\n",
    "\n",
    "import matplotlib.pyplot as plt\n",
    "#import seaborn as sns\n",
    "\n",
    "from tqdm import tqdm\n",
    "from sklearn.utils import shuffle\n",
    "import hashlib\n",
    "from base64 import b64encode\n",
    "import collections"
   ]
  },
  {
   "cell_type": "markdown",
   "id": "be6ef2dc",
   "metadata": {},
   "source": [
    "1. Разбивка пользователей на группы: генерация соли, создание функции для разбивки пользователей\n",
    "2. Бутстрэп и доверительные интервалы\n",
    "3. Дизайн теста: MDE "
   ]
  },
  {
   "cell_type": "markdown",
   "id": "afc55d72",
   "metadata": {},
   "source": [
    "# Разбивка пользователей на группы"
   ]
  },
  {
   "cell_type": "markdown",
   "id": "f9622b28",
   "metadata": {},
   "source": [
    "https://www.kaggle.com/code/danielxing/product-metrics-evaluation-and-consumer-clustering/input датасет про магазин\n"
   ]
  },
  {
   "cell_type": "code",
   "execution_count": 33,
   "id": "d016e943",
   "metadata": {},
   "outputs": [],
   "source": [
    "shop_df = pd.read_csv('2019-Dec.csv') # датафрейм из ссылки выше (его же можно использовать для ДЗ)"
   ]
  },
  {
   "cell_type": "code",
   "execution_count": 34,
   "id": "bdab1fff",
   "metadata": {},
   "outputs": [
    {
     "data": {
      "text/html": [
       "<div>\n",
       "<style scoped>\n",
       "    .dataframe tbody tr th:only-of-type {\n",
       "        vertical-align: middle;\n",
       "    }\n",
       "\n",
       "    .dataframe tbody tr th {\n",
       "        vertical-align: top;\n",
       "    }\n",
       "\n",
       "    .dataframe thead th {\n",
       "        text-align: right;\n",
       "    }\n",
       "</style>\n",
       "<table border=\"1\" class=\"dataframe\">\n",
       "  <thead>\n",
       "    <tr style=\"text-align: right;\">\n",
       "      <th></th>\n",
       "      <th>event_time</th>\n",
       "      <th>event_type</th>\n",
       "      <th>product_id</th>\n",
       "      <th>category_id</th>\n",
       "      <th>category_code</th>\n",
       "      <th>brand</th>\n",
       "      <th>price</th>\n",
       "      <th>user_id</th>\n",
       "      <th>user_session</th>\n",
       "    </tr>\n",
       "  </thead>\n",
       "  <tbody>\n",
       "    <tr>\n",
       "      <th>0</th>\n",
       "      <td>2019-12-01 00:00:00 UTC</td>\n",
       "      <td>remove_from_cart</td>\n",
       "      <td>5712790</td>\n",
       "      <td>1487580005268456287</td>\n",
       "      <td>NaN</td>\n",
       "      <td>f.o.x</td>\n",
       "      <td>6.27</td>\n",
       "      <td>576802932</td>\n",
       "      <td>51d85cb0-897f-48d2-918b-ad63965c12dc</td>\n",
       "    </tr>\n",
       "    <tr>\n",
       "      <th>1</th>\n",
       "      <td>2019-12-01 00:00:00 UTC</td>\n",
       "      <td>view</td>\n",
       "      <td>5764655</td>\n",
       "      <td>1487580005411062629</td>\n",
       "      <td>NaN</td>\n",
       "      <td>cnd</td>\n",
       "      <td>29.05</td>\n",
       "      <td>412120092</td>\n",
       "      <td>8adff31e-2051-4894-9758-224bfa8aec18</td>\n",
       "    </tr>\n",
       "    <tr>\n",
       "      <th>2</th>\n",
       "      <td>2019-12-01 00:00:02 UTC</td>\n",
       "      <td>cart</td>\n",
       "      <td>4958</td>\n",
       "      <td>1487580009471148064</td>\n",
       "      <td>NaN</td>\n",
       "      <td>runail</td>\n",
       "      <td>1.19</td>\n",
       "      <td>494077766</td>\n",
       "      <td>c99a50e8-2fac-4c4d-89ec-41c05f114554</td>\n",
       "    </tr>\n",
       "    <tr>\n",
       "      <th>3</th>\n",
       "      <td>2019-12-01 00:00:05 UTC</td>\n",
       "      <td>view</td>\n",
       "      <td>5848413</td>\n",
       "      <td>1487580007675986893</td>\n",
       "      <td>NaN</td>\n",
       "      <td>freedecor</td>\n",
       "      <td>0.79</td>\n",
       "      <td>348405118</td>\n",
       "      <td>722ffea5-73c0-4924-8e8f-371ff8031af4</td>\n",
       "    </tr>\n",
       "    <tr>\n",
       "      <th>4</th>\n",
       "      <td>2019-12-01 00:00:07 UTC</td>\n",
       "      <td>view</td>\n",
       "      <td>5824148</td>\n",
       "      <td>1487580005511725929</td>\n",
       "      <td>NaN</td>\n",
       "      <td>NaN</td>\n",
       "      <td>5.56</td>\n",
       "      <td>576005683</td>\n",
       "      <td>28172809-7e4a-45ce-bab0-5efa90117cd5</td>\n",
       "    </tr>\n",
       "  </tbody>\n",
       "</table>\n",
       "</div>"
      ],
      "text/plain": [
       "                event_time        event_type  product_id          category_id  \\\n",
       "0  2019-12-01 00:00:00 UTC  remove_from_cart     5712790  1487580005268456287   \n",
       "1  2019-12-01 00:00:00 UTC              view     5764655  1487580005411062629   \n",
       "2  2019-12-01 00:00:02 UTC              cart        4958  1487580009471148064   \n",
       "3  2019-12-01 00:00:05 UTC              view     5848413  1487580007675986893   \n",
       "4  2019-12-01 00:00:07 UTC              view     5824148  1487580005511725929   \n",
       "\n",
       "  category_code      brand  price    user_id  \\\n",
       "0           NaN      f.o.x   6.27  576802932   \n",
       "1           NaN        cnd  29.05  412120092   \n",
       "2           NaN     runail   1.19  494077766   \n",
       "3           NaN  freedecor   0.79  348405118   \n",
       "4           NaN        NaN   5.56  576005683   \n",
       "\n",
       "                           user_session  \n",
       "0  51d85cb0-897f-48d2-918b-ad63965c12dc  \n",
       "1  8adff31e-2051-4894-9758-224bfa8aec18  \n",
       "2  c99a50e8-2fac-4c4d-89ec-41c05f114554  \n",
       "3  722ffea5-73c0-4924-8e8f-371ff8031af4  \n",
       "4  28172809-7e4a-45ce-bab0-5efa90117cd5  "
      ]
     },
     "execution_count": 34,
     "metadata": {},
     "output_type": "execute_result"
    }
   ],
   "source": [
    "shop_df.head()"
   ]
  },
  {
   "cell_type": "markdown",
   "id": "82587687",
   "metadata": {},
   "source": [
    "У нас есть пользовательские логи. Допустим, мы хотим провести дизайн теста на этих данных. \n",
    "Необходимо разбить пользователей на группы"
   ]
  },
  {
   "cell_type": "markdown",
   "id": "08550a9a",
   "metadata": {},
   "source": [
    "1. Проверяем тип данных в колонке, по которой будем разбивать\n",
    "2. Выбираем хэш-функцию, соль и создаем новую колонку хэшированного айди\n",
    "3. Конвертируем в числовой вид и берем остаток от целочисленного деления на 2. По остатку выставляем группу"
   ]
  },
  {
   "cell_type": "markdown",
   "id": "a13d88bc",
   "metadata": {},
   "source": [
    "https://python.readthedocs.io/en/stable/library/hashlib.html "
   ]
  },
  {
   "cell_type": "code",
   "execution_count": 9,
   "id": "8d03e6e2",
   "metadata": {},
   "outputs": [],
   "source": [
    "shop_df['hash'] = ((shop_df['user_id'].astype(str)) + '#' + '20231503').apply(lambda x: hashlib.sha256(x.encode('utf-8')).hexdigest())\n",
    "\n",
    "shop_df['group'] = ((shop_df['hash'].str.slice(start=-6).apply(int, base=16) % 2).map(lambda x: 'A' if x == 0 else 'B'))"
   ]
  },
  {
   "cell_type": "code",
   "execution_count": 10,
   "id": "25b8d124",
   "metadata": {},
   "outputs": [
    {
     "data": {
      "text/html": [
       "<div>\n",
       "<style scoped>\n",
       "    .dataframe tbody tr th:only-of-type {\n",
       "        vertical-align: middle;\n",
       "    }\n",
       "\n",
       "    .dataframe tbody tr th {\n",
       "        vertical-align: top;\n",
       "    }\n",
       "\n",
       "    .dataframe thead th {\n",
       "        text-align: right;\n",
       "    }\n",
       "</style>\n",
       "<table border=\"1\" class=\"dataframe\">\n",
       "  <thead>\n",
       "    <tr style=\"text-align: right;\">\n",
       "      <th></th>\n",
       "      <th>event_time</th>\n",
       "      <th>event_type</th>\n",
       "      <th>product_id</th>\n",
       "      <th>category_id</th>\n",
       "      <th>category_code</th>\n",
       "      <th>brand</th>\n",
       "      <th>price</th>\n",
       "      <th>user_id</th>\n",
       "      <th>user_session</th>\n",
       "      <th>hash</th>\n",
       "      <th>group</th>\n",
       "    </tr>\n",
       "  </thead>\n",
       "  <tbody>\n",
       "    <tr>\n",
       "      <th>0</th>\n",
       "      <td>2019-12-01 00:00:00 UTC</td>\n",
       "      <td>remove_from_cart</td>\n",
       "      <td>5712790</td>\n",
       "      <td>1487580005268456287</td>\n",
       "      <td>NaN</td>\n",
       "      <td>f.o.x</td>\n",
       "      <td>6.27</td>\n",
       "      <td>576802932</td>\n",
       "      <td>51d85cb0-897f-48d2-918b-ad63965c12dc</td>\n",
       "      <td>bc3234a183421070fde345b1e67126c5ef667cdf2e9cff...</td>\n",
       "      <td>B</td>\n",
       "    </tr>\n",
       "    <tr>\n",
       "      <th>1</th>\n",
       "      <td>2019-12-01 00:00:00 UTC</td>\n",
       "      <td>view</td>\n",
       "      <td>5764655</td>\n",
       "      <td>1487580005411062629</td>\n",
       "      <td>NaN</td>\n",
       "      <td>cnd</td>\n",
       "      <td>29.05</td>\n",
       "      <td>412120092</td>\n",
       "      <td>8adff31e-2051-4894-9758-224bfa8aec18</td>\n",
       "      <td>660c995df50f87ff9c4c6e68d8b7498e74a471af046263...</td>\n",
       "      <td>A</td>\n",
       "    </tr>\n",
       "    <tr>\n",
       "      <th>2</th>\n",
       "      <td>2019-12-01 00:00:02 UTC</td>\n",
       "      <td>cart</td>\n",
       "      <td>4958</td>\n",
       "      <td>1487580009471148064</td>\n",
       "      <td>NaN</td>\n",
       "      <td>runail</td>\n",
       "      <td>1.19</td>\n",
       "      <td>494077766</td>\n",
       "      <td>c99a50e8-2fac-4c4d-89ec-41c05f114554</td>\n",
       "      <td>2a4a58a229bea1e05fd0364e3c660ae238a367bc8e465a...</td>\n",
       "      <td>B</td>\n",
       "    </tr>\n",
       "    <tr>\n",
       "      <th>3</th>\n",
       "      <td>2019-12-01 00:00:05 UTC</td>\n",
       "      <td>view</td>\n",
       "      <td>5848413</td>\n",
       "      <td>1487580007675986893</td>\n",
       "      <td>NaN</td>\n",
       "      <td>freedecor</td>\n",
       "      <td>0.79</td>\n",
       "      <td>348405118</td>\n",
       "      <td>722ffea5-73c0-4924-8e8f-371ff8031af4</td>\n",
       "      <td>5d49d0c5d0bdbdd850ec7546a1ee5f8eca630276bc6b3e...</td>\n",
       "      <td>A</td>\n",
       "    </tr>\n",
       "    <tr>\n",
       "      <th>4</th>\n",
       "      <td>2019-12-01 00:00:07 UTC</td>\n",
       "      <td>view</td>\n",
       "      <td>5824148</td>\n",
       "      <td>1487580005511725929</td>\n",
       "      <td>NaN</td>\n",
       "      <td>NaN</td>\n",
       "      <td>5.56</td>\n",
       "      <td>576005683</td>\n",
       "      <td>28172809-7e4a-45ce-bab0-5efa90117cd5</td>\n",
       "      <td>84079b35ca87e5c2700c10b027eec0b0fb9d2f364b200e...</td>\n",
       "      <td>A</td>\n",
       "    </tr>\n",
       "  </tbody>\n",
       "</table>\n",
       "</div>"
      ],
      "text/plain": [
       "                event_time        event_type  product_id          category_id  \\\n",
       "0  2019-12-01 00:00:00 UTC  remove_from_cart     5712790  1487580005268456287   \n",
       "1  2019-12-01 00:00:00 UTC              view     5764655  1487580005411062629   \n",
       "2  2019-12-01 00:00:02 UTC              cart        4958  1487580009471148064   \n",
       "3  2019-12-01 00:00:05 UTC              view     5848413  1487580007675986893   \n",
       "4  2019-12-01 00:00:07 UTC              view     5824148  1487580005511725929   \n",
       "\n",
       "  category_code      brand  price    user_id  \\\n",
       "0           NaN      f.o.x   6.27  576802932   \n",
       "1           NaN        cnd  29.05  412120092   \n",
       "2           NaN     runail   1.19  494077766   \n",
       "3           NaN  freedecor   0.79  348405118   \n",
       "4           NaN        NaN   5.56  576005683   \n",
       "\n",
       "                           user_session  \\\n",
       "0  51d85cb0-897f-48d2-918b-ad63965c12dc   \n",
       "1  8adff31e-2051-4894-9758-224bfa8aec18   \n",
       "2  c99a50e8-2fac-4c4d-89ec-41c05f114554   \n",
       "3  722ffea5-73c0-4924-8e8f-371ff8031af4   \n",
       "4  28172809-7e4a-45ce-bab0-5efa90117cd5   \n",
       "\n",
       "                                                hash group  \n",
       "0  bc3234a183421070fde345b1e67126c5ef667cdf2e9cff...     B  \n",
       "1  660c995df50f87ff9c4c6e68d8b7498e74a471af046263...     A  \n",
       "2  2a4a58a229bea1e05fd0364e3c660ae238a367bc8e465a...     B  \n",
       "3  5d49d0c5d0bdbdd850ec7546a1ee5f8eca630276bc6b3e...     A  \n",
       "4  84079b35ca87e5c2700c10b027eec0b0fb9d2f364b200e...     A  "
      ]
     },
     "execution_count": 10,
     "metadata": {},
     "output_type": "execute_result"
    }
   ],
   "source": [
    "shop_df.head(5)"
   ]
  },
  {
   "cell_type": "code",
   "execution_count": 11,
   "id": "1fa0c0dd",
   "metadata": {},
   "outputs": [
    {
     "data": {
      "text/html": [
       "<div>\n",
       "<style scoped>\n",
       "    .dataframe tbody tr th:only-of-type {\n",
       "        vertical-align: middle;\n",
       "    }\n",
       "\n",
       "    .dataframe tbody tr th {\n",
       "        vertical-align: top;\n",
       "    }\n",
       "\n",
       "    .dataframe thead th {\n",
       "        text-align: right;\n",
       "    }\n",
       "</style>\n",
       "<table border=\"1\" class=\"dataframe\">\n",
       "  <thead>\n",
       "    <tr style=\"text-align: right;\">\n",
       "      <th></th>\n",
       "      <th>event_time</th>\n",
       "      <th>event_type</th>\n",
       "      <th>product_id</th>\n",
       "      <th>category_id</th>\n",
       "      <th>category_code</th>\n",
       "      <th>brand</th>\n",
       "      <th>price</th>\n",
       "      <th>user_id</th>\n",
       "      <th>user_session</th>\n",
       "      <th>hash</th>\n",
       "    </tr>\n",
       "    <tr>\n",
       "      <th>group</th>\n",
       "      <th></th>\n",
       "      <th></th>\n",
       "      <th></th>\n",
       "      <th></th>\n",
       "      <th></th>\n",
       "      <th></th>\n",
       "      <th></th>\n",
       "      <th></th>\n",
       "      <th></th>\n",
       "      <th></th>\n",
       "    </tr>\n",
       "  </thead>\n",
       "  <tbody>\n",
       "    <tr>\n",
       "      <th>A</th>\n",
       "      <td>1755829</td>\n",
       "      <td>1755829</td>\n",
       "      <td>1755829</td>\n",
       "      <td>1755829</td>\n",
       "      <td>28902</td>\n",
       "      <td>1003132</td>\n",
       "      <td>1755829</td>\n",
       "      <td>1755829</td>\n",
       "      <td>1755456</td>\n",
       "      <td>1755829</td>\n",
       "    </tr>\n",
       "    <tr>\n",
       "      <th>B</th>\n",
       "      <td>1777457</td>\n",
       "      <td>1777457</td>\n",
       "      <td>1777457</td>\n",
       "      <td>1777457</td>\n",
       "      <td>29563</td>\n",
       "      <td>1019865</td>\n",
       "      <td>1777457</td>\n",
       "      <td>1777457</td>\n",
       "      <td>1777051</td>\n",
       "      <td>1777457</td>\n",
       "    </tr>\n",
       "  </tbody>\n",
       "</table>\n",
       "</div>"
      ],
      "text/plain": [
       "       event_time  event_type  product_id  category_id  category_code  \\\n",
       "group                                                                   \n",
       "A         1755829     1755829     1755829      1755829          28902   \n",
       "B         1777457     1777457     1777457      1777457          29563   \n",
       "\n",
       "         brand    price  user_id  user_session     hash  \n",
       "group                                                    \n",
       "A      1003132  1755829  1755829       1755456  1755829  \n",
       "B      1019865  1777457  1777457       1777051  1777457  "
      ]
     },
     "execution_count": 11,
     "metadata": {},
     "output_type": "execute_result"
    }
   ],
   "source": [
    "shop_df.groupby(['group']).count()"
   ]
  },
  {
   "cell_type": "code",
   "execution_count": 12,
   "id": "799d25f3",
   "metadata": {},
   "outputs": [
    {
     "data": {
      "text/html": [
       "<div>\n",
       "<style scoped>\n",
       "    .dataframe tbody tr th:only-of-type {\n",
       "        vertical-align: middle;\n",
       "    }\n",
       "\n",
       "    .dataframe tbody tr th {\n",
       "        vertical-align: top;\n",
       "    }\n",
       "\n",
       "    .dataframe thead th {\n",
       "        text-align: right;\n",
       "    }\n",
       "</style>\n",
       "<table border=\"1\" class=\"dataframe\">\n",
       "  <thead>\n",
       "    <tr style=\"text-align: right;\">\n",
       "      <th></th>\n",
       "      <th>event_time</th>\n",
       "      <th>event_type</th>\n",
       "      <th>product_id</th>\n",
       "      <th>category_id</th>\n",
       "      <th>category_code</th>\n",
       "      <th>brand</th>\n",
       "      <th>price</th>\n",
       "      <th>user_id</th>\n",
       "      <th>user_session</th>\n",
       "      <th>hash</th>\n",
       "    </tr>\n",
       "    <tr>\n",
       "      <th>group</th>\n",
       "      <th></th>\n",
       "      <th></th>\n",
       "      <th></th>\n",
       "      <th></th>\n",
       "      <th></th>\n",
       "      <th></th>\n",
       "      <th></th>\n",
       "      <th></th>\n",
       "      <th></th>\n",
       "      <th></th>\n",
       "    </tr>\n",
       "  </thead>\n",
       "  <tbody>\n",
       "    <tr>\n",
       "      <th>A</th>\n",
       "      <td>1098948</td>\n",
       "      <td>4</td>\n",
       "      <td>41588</td>\n",
       "      <td>473</td>\n",
       "      <td>10</td>\n",
       "      <td>249</td>\n",
       "      <td>2051</td>\n",
       "      <td>184831</td>\n",
       "      <td>421317</td>\n",
       "      <td>184831</td>\n",
       "    </tr>\n",
       "    <tr>\n",
       "      <th>B</th>\n",
       "      <td>1105081</td>\n",
       "      <td>4</td>\n",
       "      <td>41690</td>\n",
       "      <td>468</td>\n",
       "      <td>10</td>\n",
       "      <td>250</td>\n",
       "      <td>2062</td>\n",
       "      <td>185323</td>\n",
       "      <td>418519</td>\n",
       "      <td>185323</td>\n",
       "    </tr>\n",
       "  </tbody>\n",
       "</table>\n",
       "</div>"
      ],
      "text/plain": [
       "       event_time  event_type  product_id  category_id  category_code  brand  \\\n",
       "group                                                                          \n",
       "A         1098948           4       41588          473             10    249   \n",
       "B         1105081           4       41690          468             10    250   \n",
       "\n",
       "       price  user_id  user_session    hash  \n",
       "group                                        \n",
       "A       2051   184831        421317  184831  \n",
       "B       2062   185323        418519  185323  "
      ]
     },
     "execution_count": 12,
     "metadata": {},
     "output_type": "execute_result"
    }
   ],
   "source": [
    "shop_df.groupby(['group']).nunique()"
   ]
  },
  {
   "cell_type": "code",
   "execution_count": 13,
   "id": "b5fe3cf9",
   "metadata": {},
   "outputs": [],
   "source": [
    "def salt_generator(salt=None):\n",
    "    import os\n",
    "    from base64 import b64encode # кодирует байтоподобный объект с помощью Base64 и возвращает закодированную байтовую строку.\n",
    "    salt = os.urandom(8)\n",
    "    \n",
    "    return b64encode(salt).decode('ascii')\n",
    "\n",
    "# '''os.urandom() method is used to generate a string of size random bytes suitable for cryptographic use \n",
    "#    or we can say this method generates a string containing random characters.'''\n",
    "# https://www.geeksforgeeks.org/python-os-urandom-method/ "
   ]
  },
  {
   "cell_type": "code",
   "execution_count": 14,
   "id": "7674c582",
   "metadata": {},
   "outputs": [],
   "source": [
    "def groups_splitter(df, user_salt=None):\n",
    "    \n",
    "    if user_salt == None:\n",
    "        salt = salt_generator()\n",
    "    else:\n",
    "        salt = user_salt\n",
    "    \n",
    "    df['hash'] = ((df['user_id'].astype(str)) + '#' + salt).apply(lambda x: hashlib.sha256(x.encode('utf-8')).hexdigest())\n",
    "\n",
    "    df['group'] = ((df['hash'].str.slice(start=-6).apply(int, base=16) % 2).map(lambda x: 'A' if x == 0 else 'B'))\n",
    "\n",
    "    return df[['user_id', 'group']].drop_duplicates()"
   ]
  },
  {
   "cell_type": "markdown",
   "id": "4b6b6324",
   "metadata": {},
   "source": [
    "Проверим, как функция работает"
   ]
  },
  {
   "cell_type": "code",
   "execution_count": 42,
   "id": "c63fb2f9",
   "metadata": {},
   "outputs": [],
   "source": [
    "shop_df = shop_df.drop(columns=['hash', 'group']) # дропаем колонки, если они остались от предыдущих упражнений"
   ]
  },
  {
   "cell_type": "code",
   "execution_count": 43,
   "id": "aaf97126",
   "metadata": {},
   "outputs": [
    {
     "data": {
      "text/html": [
       "<div>\n",
       "<style scoped>\n",
       "    .dataframe tbody tr th:only-of-type {\n",
       "        vertical-align: middle;\n",
       "    }\n",
       "\n",
       "    .dataframe tbody tr th {\n",
       "        vertical-align: top;\n",
       "    }\n",
       "\n",
       "    .dataframe thead th {\n",
       "        text-align: right;\n",
       "    }\n",
       "</style>\n",
       "<table border=\"1\" class=\"dataframe\">\n",
       "  <thead>\n",
       "    <tr style=\"text-align: right;\">\n",
       "      <th></th>\n",
       "      <th>event_time</th>\n",
       "      <th>event_type</th>\n",
       "      <th>product_id</th>\n",
       "      <th>category_id</th>\n",
       "      <th>category_code</th>\n",
       "      <th>brand</th>\n",
       "      <th>price</th>\n",
       "      <th>user_id</th>\n",
       "      <th>user_session</th>\n",
       "    </tr>\n",
       "  </thead>\n",
       "  <tbody>\n",
       "    <tr>\n",
       "      <th>0</th>\n",
       "      <td>2019-12-01 00:00:00 UTC</td>\n",
       "      <td>remove_from_cart</td>\n",
       "      <td>5712790</td>\n",
       "      <td>1487580005268456287</td>\n",
       "      <td>NaN</td>\n",
       "      <td>f.o.x</td>\n",
       "      <td>6.27</td>\n",
       "      <td>576802932</td>\n",
       "      <td>51d85cb0-897f-48d2-918b-ad63965c12dc</td>\n",
       "    </tr>\n",
       "    <tr>\n",
       "      <th>1</th>\n",
       "      <td>2019-12-01 00:00:00 UTC</td>\n",
       "      <td>view</td>\n",
       "      <td>5764655</td>\n",
       "      <td>1487580005411062629</td>\n",
       "      <td>NaN</td>\n",
       "      <td>cnd</td>\n",
       "      <td>29.05</td>\n",
       "      <td>412120092</td>\n",
       "      <td>8adff31e-2051-4894-9758-224bfa8aec18</td>\n",
       "    </tr>\n",
       "    <tr>\n",
       "      <th>2</th>\n",
       "      <td>2019-12-01 00:00:02 UTC</td>\n",
       "      <td>cart</td>\n",
       "      <td>4958</td>\n",
       "      <td>1487580009471148064</td>\n",
       "      <td>NaN</td>\n",
       "      <td>runail</td>\n",
       "      <td>1.19</td>\n",
       "      <td>494077766</td>\n",
       "      <td>c99a50e8-2fac-4c4d-89ec-41c05f114554</td>\n",
       "    </tr>\n",
       "  </tbody>\n",
       "</table>\n",
       "</div>"
      ],
      "text/plain": [
       "                event_time        event_type  product_id          category_id  \\\n",
       "0  2019-12-01 00:00:00 UTC  remove_from_cart     5712790  1487580005268456287   \n",
       "1  2019-12-01 00:00:00 UTC              view     5764655  1487580005411062629   \n",
       "2  2019-12-01 00:00:02 UTC              cart        4958  1487580009471148064   \n",
       "\n",
       "  category_code   brand  price    user_id  \\\n",
       "0           NaN   f.o.x   6.27  576802932   \n",
       "1           NaN     cnd  29.05  412120092   \n",
       "2           NaN  runail   1.19  494077766   \n",
       "\n",
       "                           user_session  \n",
       "0  51d85cb0-897f-48d2-918b-ad63965c12dc  \n",
       "1  8adff31e-2051-4894-9758-224bfa8aec18  \n",
       "2  c99a50e8-2fac-4c4d-89ec-41c05f114554  "
      ]
     },
     "execution_count": 43,
     "metadata": {},
     "output_type": "execute_result"
    }
   ],
   "source": [
    "shop_df.head(3) # проверяем, все ли окей"
   ]
  },
  {
   "cell_type": "code",
   "execution_count": 44,
   "id": "800ae883",
   "metadata": {},
   "outputs": [],
   "source": [
    "groups = groups_splitter(shop_df.copy()) # передаем копию датафрейма, чтобы исходный не менялся\n",
    "shop_df = pd.merge(shop_df, groups, how='left', on=['user_id']) # джойним датафрейм с логами с датафреймом юзер-группа"
   ]
  },
  {
   "cell_type": "code",
   "execution_count": 45,
   "id": "7e5b97eb",
   "metadata": {},
   "outputs": [
    {
     "data": {
      "text/html": [
       "<div>\n",
       "<style scoped>\n",
       "    .dataframe tbody tr th:only-of-type {\n",
       "        vertical-align: middle;\n",
       "    }\n",
       "\n",
       "    .dataframe tbody tr th {\n",
       "        vertical-align: top;\n",
       "    }\n",
       "\n",
       "    .dataframe thead th {\n",
       "        text-align: right;\n",
       "    }\n",
       "</style>\n",
       "<table border=\"1\" class=\"dataframe\">\n",
       "  <thead>\n",
       "    <tr style=\"text-align: right;\">\n",
       "      <th></th>\n",
       "      <th>event_time</th>\n",
       "      <th>event_type</th>\n",
       "      <th>product_id</th>\n",
       "      <th>category_id</th>\n",
       "      <th>category_code</th>\n",
       "      <th>brand</th>\n",
       "      <th>price</th>\n",
       "      <th>user_id</th>\n",
       "      <th>user_session</th>\n",
       "      <th>group</th>\n",
       "    </tr>\n",
       "  </thead>\n",
       "  <tbody>\n",
       "    <tr>\n",
       "      <th>0</th>\n",
       "      <td>2019-12-01 00:00:00 UTC</td>\n",
       "      <td>remove_from_cart</td>\n",
       "      <td>5712790</td>\n",
       "      <td>1487580005268456287</td>\n",
       "      <td>NaN</td>\n",
       "      <td>f.o.x</td>\n",
       "      <td>6.27</td>\n",
       "      <td>576802932</td>\n",
       "      <td>51d85cb0-897f-48d2-918b-ad63965c12dc</td>\n",
       "      <td>B</td>\n",
       "    </tr>\n",
       "    <tr>\n",
       "      <th>1</th>\n",
       "      <td>2019-12-01 00:00:00 UTC</td>\n",
       "      <td>view</td>\n",
       "      <td>5764655</td>\n",
       "      <td>1487580005411062629</td>\n",
       "      <td>NaN</td>\n",
       "      <td>cnd</td>\n",
       "      <td>29.05</td>\n",
       "      <td>412120092</td>\n",
       "      <td>8adff31e-2051-4894-9758-224bfa8aec18</td>\n",
       "      <td>A</td>\n",
       "    </tr>\n",
       "    <tr>\n",
       "      <th>2</th>\n",
       "      <td>2019-12-01 00:00:02 UTC</td>\n",
       "      <td>cart</td>\n",
       "      <td>4958</td>\n",
       "      <td>1487580009471148064</td>\n",
       "      <td>NaN</td>\n",
       "      <td>runail</td>\n",
       "      <td>1.19</td>\n",
       "      <td>494077766</td>\n",
       "      <td>c99a50e8-2fac-4c4d-89ec-41c05f114554</td>\n",
       "      <td>A</td>\n",
       "    </tr>\n",
       "    <tr>\n",
       "      <th>3</th>\n",
       "      <td>2019-12-01 00:00:05 UTC</td>\n",
       "      <td>view</td>\n",
       "      <td>5848413</td>\n",
       "      <td>1487580007675986893</td>\n",
       "      <td>NaN</td>\n",
       "      <td>freedecor</td>\n",
       "      <td>0.79</td>\n",
       "      <td>348405118</td>\n",
       "      <td>722ffea5-73c0-4924-8e8f-371ff8031af4</td>\n",
       "      <td>A</td>\n",
       "    </tr>\n",
       "    <tr>\n",
       "      <th>4</th>\n",
       "      <td>2019-12-01 00:00:07 UTC</td>\n",
       "      <td>view</td>\n",
       "      <td>5824148</td>\n",
       "      <td>1487580005511725929</td>\n",
       "      <td>NaN</td>\n",
       "      <td>NaN</td>\n",
       "      <td>5.56</td>\n",
       "      <td>576005683</td>\n",
       "      <td>28172809-7e4a-45ce-bab0-5efa90117cd5</td>\n",
       "      <td>B</td>\n",
       "    </tr>\n",
       "  </tbody>\n",
       "</table>\n",
       "</div>"
      ],
      "text/plain": [
       "                event_time        event_type  product_id          category_id  \\\n",
       "0  2019-12-01 00:00:00 UTC  remove_from_cart     5712790  1487580005268456287   \n",
       "1  2019-12-01 00:00:00 UTC              view     5764655  1487580005411062629   \n",
       "2  2019-12-01 00:00:02 UTC              cart        4958  1487580009471148064   \n",
       "3  2019-12-01 00:00:05 UTC              view     5848413  1487580007675986893   \n",
       "4  2019-12-01 00:00:07 UTC              view     5824148  1487580005511725929   \n",
       "\n",
       "  category_code      brand  price    user_id  \\\n",
       "0           NaN      f.o.x   6.27  576802932   \n",
       "1           NaN        cnd  29.05  412120092   \n",
       "2           NaN     runail   1.19  494077766   \n",
       "3           NaN  freedecor   0.79  348405118   \n",
       "4           NaN        NaN   5.56  576005683   \n",
       "\n",
       "                           user_session group  \n",
       "0  51d85cb0-897f-48d2-918b-ad63965c12dc     B  \n",
       "1  8adff31e-2051-4894-9758-224bfa8aec18     A  \n",
       "2  c99a50e8-2fac-4c4d-89ec-41c05f114554     A  \n",
       "3  722ffea5-73c0-4924-8e8f-371ff8031af4     A  \n",
       "4  28172809-7e4a-45ce-bab0-5efa90117cd5     B  "
      ]
     },
     "execution_count": 45,
     "metadata": {},
     "output_type": "execute_result"
    }
   ],
   "source": [
    "shop_df.head(5)"
   ]
  },
  {
   "cell_type": "markdown",
   "id": "c036df9e",
   "metadata": {},
   "source": [
    "# Дизайн АВ-теста: формула MDE и бутстрэп"
   ]
  },
  {
   "cell_type": "markdown",
   "id": "873d8ca5",
   "metadata": {},
   "source": [
    "Вспомним, как выглядит формула MDE:"
   ]
  },
  {
   "attachments": {
    "image.png": {
     "image/png": "[encoded data removed]"
    }
   },
   "cell_type": "markdown",
   "id": "57da07a3",
   "metadata": {},
   "source": [
    "![image.png](attachment:image.png)"
   ]
  },
  {
   "cell_type": "markdown",
   "id": "1c42077b",
   "metadata": {},
   "source": [
    "Как вычислить квантили нормального распределения?\n",
    "\n",
    "Таблицы со значениями можно посмотреть здесь:\n",
    "https://studfile.net/preview/3795082/page:2/ "
   ]
  },
  {
   "cell_type": "code",
   "execution_count": 21,
   "id": "8a11d4ba",
   "metadata": {},
   "outputs": [],
   "source": [
    "from scipy.stats import norm"
   ]
  },
  {
   "cell_type": "code",
   "execution_count": 22,
   "id": "3e05c395",
   "metadata": {},
   "outputs": [
    {
     "data": {
      "text/plain": [
       "1.959963984540054"
      ]
     },
     "execution_count": 22,
     "metadata": {},
     "output_type": "execute_result"
    }
   ],
   "source": [
    "norm.ppf(1-(0.05 / 2), loc=0, scale=1)"
   ]
  },
  {
   "cell_type": "code",
   "execution_count": 23,
   "id": "9d21197f",
   "metadata": {},
   "outputs": [
    {
     "data": {
      "text/plain": [
       "0.8416212335729143"
      ]
     },
     "execution_count": 23,
     "metadata": {},
     "output_type": "execute_result"
    }
   ],
   "source": [
    "norm.ppf(1-0.2, loc=0, scale=1)"
   ]
  },
  {
   "cell_type": "markdown",
   "id": "eb1a214a",
   "metadata": {},
   "source": [
    "Теперь можем написать функцию:"
   ]
  },
  {
   "cell_type": "code",
   "execution_count": 24,
   "id": "5625ddd9",
   "metadata": {},
   "outputs": [],
   "source": [
    "def get_mde(metric_vec, alpha=0.05, beta=0.2):\n",
    "    \n",
    "    metric_mean, metric_std, metric_n = metric_vec.mean(), metric_vec.std(), metric_vec.count()\n",
    "    \n",
    "    z_alpha = norm.ppf(1-(alpha / 2), loc=0, scale=1)\n",
    "    z_beta = norm.ppf(1-beta, loc=0, scale=1)\n",
    "    \n",
    "    mde = (z_alpha + z_beta)*metric_std / np.sqrt(metric_n)\n",
    "    \n",
    "    return mde*100/metric_mean"
   ]
  },
  {
   "cell_type": "markdown",
   "id": "8e3ea062",
   "metadata": {},
   "source": [
    "Опробуем на сгенерированной поюзерной метрике"
   ]
  },
  {
   "cell_type": "code",
   "execution_count": 47,
   "id": "014e861c",
   "metadata": {},
   "outputs": [],
   "source": [
    "shop_df_users = shop_df[['user_id', 'group']].drop_duplicates()\n",
    "shop_df_users['metric'] = np.random.randint(100, size=shop_df_users.shape[0])"
   ]
  },
  {
   "cell_type": "code",
   "execution_count": 48,
   "id": "9b3d9023",
   "metadata": {},
   "outputs": [
    {
     "data": {
      "text/html": [
       "<div>\n",
       "<style scoped>\n",
       "    .dataframe tbody tr th:only-of-type {\n",
       "        vertical-align: middle;\n",
       "    }\n",
       "\n",
       "    .dataframe tbody tr th {\n",
       "        vertical-align: top;\n",
       "    }\n",
       "\n",
       "    .dataframe thead th {\n",
       "        text-align: right;\n",
       "    }\n",
       "</style>\n",
       "<table border=\"1\" class=\"dataframe\">\n",
       "  <thead>\n",
       "    <tr style=\"text-align: right;\">\n",
       "      <th></th>\n",
       "      <th>user_id</th>\n",
       "      <th>group</th>\n",
       "      <th>metric</th>\n",
       "    </tr>\n",
       "  </thead>\n",
       "  <tbody>\n",
       "    <tr>\n",
       "      <th>0</th>\n",
       "      <td>576802932</td>\n",
       "      <td>B</td>\n",
       "      <td>19</td>\n",
       "    </tr>\n",
       "    <tr>\n",
       "      <th>1</th>\n",
       "      <td>412120092</td>\n",
       "      <td>A</td>\n",
       "      <td>42</td>\n",
       "    </tr>\n",
       "    <tr>\n",
       "      <th>2</th>\n",
       "      <td>494077766</td>\n",
       "      <td>A</td>\n",
       "      <td>65</td>\n",
       "    </tr>\n",
       "    <tr>\n",
       "      <th>3</th>\n",
       "      <td>348405118</td>\n",
       "      <td>A</td>\n",
       "      <td>17</td>\n",
       "    </tr>\n",
       "    <tr>\n",
       "      <th>4</th>\n",
       "      <td>576005683</td>\n",
       "      <td>B</td>\n",
       "      <td>86</td>\n",
       "    </tr>\n",
       "  </tbody>\n",
       "</table>\n",
       "</div>"
      ],
      "text/plain": [
       "     user_id group  metric\n",
       "0  576802932     B      19\n",
       "1  412120092     A      42\n",
       "2  494077766     A      65\n",
       "3  348405118     A      17\n",
       "4  576005683     B      86"
      ]
     },
     "execution_count": 48,
     "metadata": {},
     "output_type": "execute_result"
    }
   ],
   "source": [
    "shop_df_users.head()"
   ]
  },
  {
   "cell_type": "code",
   "execution_count": 28,
   "id": "06364e10",
   "metadata": {},
   "outputs": [
    {
     "data": {
      "text/plain": [
       "0.2685347948065585"
      ]
     },
     "execution_count": 28,
     "metadata": {},
     "output_type": "execute_result"
    }
   ],
   "source": [
    "get_mde(shop_df_users['metric'], alpha=0.05, beta=0.2)"
   ]
  },
  {
   "cell_type": "code",
   "execution_count": 29,
   "id": "c9380bd9",
   "metadata": {},
   "outputs": [
    {
     "data": {
      "text/plain": [
       "0.3497272957913368"
      ]
     },
     "execution_count": 29,
     "metadata": {},
     "output_type": "execute_result"
    }
   ],
   "source": [
    "get_mde(shop_df_users['metric'], alpha=0.005, beta=0.2)"
   ]
  },
  {
   "cell_type": "markdown",
   "id": "c3dbbc9d",
   "metadata": {},
   "source": [
    "Но можно дизайн делать на бутстрэпе:"
   ]
  },
  {
   "cell_type": "markdown",
   "id": "4ce8df56",
   "metadata": {},
   "source": [
    "# Бутстрэп и доверительные интервалы"
   ]
  },
  {
   "attachments": {
    "image.png": {
     "image/png": "[encoded data removed]"
    }
   },
   "cell_type": "markdown",
   "id": "1c96d260",
   "metadata": {},
   "source": [
    "![image.png](attachment:image.png)"
   ]
  },
  {
   "cell_type": "markdown",
   "id": "c4a842ce",
   "metadata": {},
   "source": [
    "Попробуем применить данную механику для дизайна, оценив корректность теста"
   ]
  },
  {
   "cell_type": "markdown",
   "id": "647883f0",
   "metadata": {},
   "source": [
    "Нам понадобятся следующие функции:"
   ]
  },
  {
   "cell_type": "code",
   "execution_count": 30,
   "id": "88ca1b49",
   "metadata": {},
   "outputs": [],
   "source": [
    "def salt_generator(salt=None):\n",
    "    import os\n",
    "    from base64 import b64encode\n",
    "    salt = os.urandom(8)\n",
    "    \n",
    "    return b64encode(salt).decode('ascii')\n",
    "\n",
    "def get_bootstrap_array(arr):\n",
    "    return np.random.choice(arr, replace=True, size=len(arr))\n",
    "\n",
    "\n",
    "def calc_bootstrap_mean(arr, size=1000):\n",
    "    result = np.empty(size)\n",
    "    for i in range(size):\n",
    "        result[i] = np.mean(get_bootstrap_array(arr))\n",
    "    return result"
   ]
  },
  {
   "cell_type": "code",
   "execution_count": 77,
   "id": "d855f10f",
   "metadata": {},
   "outputs": [
    {
     "name": "stderr",
     "output_type": "stream",
     "text": [
      "100%|██████████| 1000/1000 [2:15:07<00:00,  8.11s/it] "
     ]
    },
    {
     "name": "stdout",
     "output_type": "stream",
     "text": [
      "correctness: 4.6%\n"
     ]
    },
    {
     "name": "stderr",
     "output_type": "stream",
     "text": [
      "\n"
     ]
    }
   ],
   "source": [
    "correctness = []\n",
    "\n",
    "for i in tqdm(range(1000)):\n",
    "    \n",
    "    new_group = groups_splitter(shop_df_users.copy(), salt=salt_generator())\n",
    "    new_df = pd.merge(shop_df_users, new_group, how=\"left\", on=['user_id']).drop_duplicates()\n",
    "    \n",
    "    vec_a = new_df[(new_df['group'] == 'A')]['metric']\n",
    "    vec_b = new_df[(new_df['group'] == 'B')]['metric']\n",
    "    \n",
    "    #bootstrap\n",
    "    sample_a_mean = calc_bootstrap_mean(vec_a, size=1000) # на бутстрэпе считаем средние для вектора\n",
    "    sample_b_mean = calc_bootstrap_mean(vec_b, size=1000)\n",
    "    \n",
    "    left_side, right_side = np.percentile(sample_a_mean - sample_b_mean, \n",
    "                                                  [100 * 0.05 / 2., 100 * (1 - 0.05 / 2.)]) # считаем 95% доверительный интервал для разницы средних\n",
    "    \n",
    "    correctness.append(not left_side <= 0 <= right_side)\n",
    "    \n",
    "    test_correctness = collections.Counter(correctness)\n",
    "    \n",
    "print(f'correctness: {test_correctness[1]/(test_correctness[1] + test_correctness[0])*100}%')"
   ]
  },
  {
   "cell_type": "code",
   "execution_count": 50,
   "id": "fe70fab9",
   "metadata": {},
   "outputs": [],
   "source": [
    "shop_df_users = shop_df_users.drop(columns=['group']) # дропаем колонку с группами, оставшуюся от предыдущих упражнений"
   ]
  },
  {
   "cell_type": "code",
   "execution_count": 51,
   "id": "c43ecec7",
   "metadata": {},
   "outputs": [
    {
     "name": "stderr",
     "output_type": "stream",
     "text": [
      "100%|██████████| 10/10 [01:27<00:00,  8.72s/it]"
     ]
    },
    {
     "name": "stdout",
     "output_type": "stream",
     "text": [
      "correctness: 20.0% 2 8 Counter({False: 8, True: 2})\n"
     ]
    },
    {
     "name": "stderr",
     "output_type": "stream",
     "text": [
      "\n"
     ]
    }
   ],
   "source": [
    "correctness = []\n",
    "\n",
    "for i in tqdm(range(10)): # 10 итераций - мало, так не делаем, пример иллюстративный\n",
    "    \n",
    "    new_group = groups_splitter(shop_df_users.copy(), user_salt=salt_generator())\n",
    "    new_df = pd.merge(shop_df_users, new_group, how=\"left\", on=['user_id']).drop_duplicates()\n",
    "    \n",
    "    vec_a = new_df[(new_df['group'] == 'A')]['metric']\n",
    "    vec_b = new_df[(new_df['group'] == 'B')]['metric']\n",
    "    \n",
    "    #bootstrap\n",
    "    sample_a_mean = calc_bootstrap_mean(vec_a, size=1000) # на бутстрэпе считаем средние для вектора\n",
    "    sample_b_mean = calc_bootstrap_mean(vec_b, size=1000)\n",
    "    \n",
    "    left_side, right_side = np.percentile(sample_a_mean - sample_b_mean, \n",
    "                                                  [100 * 0.05 / 2., 100 * (1 - 0.05 / 2.)]) # считаем 95% доверительный интервал для разницы средних\n",
    "    \n",
    "    correctness.append(not left_side <= 0 <= right_side)\n",
    "    \n",
    "    test_correctness = collections.Counter(correctness)\n",
    "    \n",
    "print(f'correctness: {test_correctness[1]/(test_correctness[1] + test_correctness[0])*100}%', test_correctness[1], test_correctness[0], test_correctness)"
   ]
  },
  {
   "cell_type": "markdown",
   "id": "792299c8",
   "metadata": {},
   "source": [
    "Результаты выше наглядно демонстрируют, почему 10 итераций - мало. \n",
    "\n",
    "На 1000 результат < 5% (что хорошо, в ошибку укладываемся), на 10 - 20%"
   ]
  },
  {
   "cell_type": "markdown",
   "id": "58eec4f3",
   "metadata": {},
   "source": [
    "# ДЗ 2:\n",
    "\n",
    "1. Дизайн: написать функцию для вычисления длительности теста. Проиллюстрировать применение на сгенерированных данных\n",
    "\n",
    "\n",
    "2. Разбивка пользователей: написать функцию разбивки пользователей на а) 2 группы неравного размера (не 50/50), б) 30 групп равного размера\n",
    "\n",
    "\n",
    "3. Бутстрэп + дизайн: \n",
    "\n",
    "- а) сгенерировать выборки без выбросов, докинуть эффект на одну из них равномерно и с помощью распределения (нормальное и любое другое на выбор)\n",
    "- б) то же, что и в а), но выборки с выбросами сделать\n",
    "- в) для случаев из а) и б) бутстрэпом оценить: среднее, медиану, 25% перцентиль, построить доверительные интервалы для статистик (речь о разницах средних/медиан/перцентилей для групп)\n",
    "- г) для случаев из а) и б) оценить среднее т-тестом и Манном-Уитни. Сравнить с результатами бутстрэпа. Сделать выводы. Сравниваем точечные оценки (на бутстрэпе их тоже считаем)"
   ]
  },
  {
   "cell_type": "markdown",
   "id": "fc6cc023",
   "metadata": {},
   "source": [
    "СОВЕТ: Т.к бутстрэп считается долго, то для дз отлаживаем код на малом количестве итераций, а результаты уже показываем на 1000+"
   ]
  },
  {
   "cell_type": "code",
   "execution_count": null,
   "id": "aa610c1b",
   "metadata": {},
   "outputs": [],
   "source": []
  }
 ],
 "metadata": {
  "kernelspec": {
   "display_name": "Python 3 (ipykernel)",
   "language": "python",
   "name": "python3"
  },
  "language_info": {
   "codemirror_mode": {
    "name": "ipython",
    "version": 3
   },
   "file_extension": ".py",
   "mimetype": "text/x-python",
   "name": "python",
   "nbconvert_exporter": "python",
   "pygments_lexer": "ipython3",
   "version": "3.11.8"
  }
 },
 "nbformat": 4,
 "nbformat_minor": 5
}
